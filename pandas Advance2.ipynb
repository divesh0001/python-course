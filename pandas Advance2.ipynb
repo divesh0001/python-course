{
 "cells": [
  {
   "cell_type": "code",
   "execution_count": 4,
   "id": "74fda31b-ee68-4b71-9613-9b20802665c8",
   "metadata": {},
   "outputs": [
    {
     "name": "stdout",
     "output_type": "stream",
     "text": [
      "course_name    Machine Learning\n",
      "duration                      3\n",
      "Name: 1, dtype: object\n"
     ]
    }
   ],
   "source": [
    "#1.\n",
    "import pandas as pd\n",
    "\n",
    "course_name = ['Data Science', 'Machine Learning', 'Big Data', 'Data Engineer']\n",
    "duration = [2, 3, 6, 4]\n",
    "\n",
    "df = pd.DataFrame(data={'course_name': course_name, 'duration': duration})\n",
    "\n",
    "second_row = df.iloc[1]\n",
    "print(second_row)\n"
   ]
  },
  {
   "cell_type": "markdown",
   "id": "1ef80da5-a684-42d5-8f2e-6d8d45f21c00",
   "metadata": {},
   "source": [
    "#2.loc: Uses label-based indexing, referencing rows and columns by their labels or index names. Syntax: df.loc[row_labels, column_labels].\n",
    "\n",
    "iloc: Uses integer-based indexing, referencing rows and columns by their integer positions. Syntax: df.iloc[row_positions, column_positions]."
   ]
  },
  {
   "cell_type": "code",
   "execution_count": 6,
   "id": "5cfe993e-ea71-4167-9610-068658260804",
   "metadata": {},
   "outputs": [
    {
     "name": "stdout",
     "output_type": "stream",
     "text": [
      "Output for new_df.loc[2]:\n",
      "column_1    0.156805\n",
      "column_2    0.658457\n",
      "column_3    0.528656\n",
      "column_4    0.649841\n",
      "column_5    0.867581\n",
      "column_6    0.323595\n",
      "Name: 2, dtype: float64\n",
      "\n",
      "Output for new_df.iloc[2]:\n",
      "column_1    0.714576\n",
      "column_2    0.932802\n",
      "column_3    0.644850\n",
      "column_4    0.307061\n",
      "column_5    0.199987\n",
      "column_6    0.698763\n",
      "Name: 1, dtype: float64\n"
     ]
    }
   ],
   "source": [
    "#3.\n",
    "import pandas as pd\n",
    "import numpy as np\n",
    "\n",
    "columns = ['column_1', 'column_2', 'column_3', 'column_4', 'column_5', 'column_6']\n",
    "indices = [1, 2, 3, 4, 5, 6]\n",
    "# Creating a dataframe:\n",
    "df1 = pd.DataFrame(np.random.rand(6, 6), columns=columns, index=indices)\n",
    "\n",
    "reindex = [3, 0, 1, 2]\n",
    "new_df = df1.reindex(reindex)\n",
    "\n",
    "print(\"Output for new_df.loc[2]:\")\n",
    "print(new_df.loc[2])\n",
    "\n",
    "print(\"\\nOutput for new_df.iloc[2]:\")\n",
    "print(new_df.iloc[2])\n",
    "\n"
   ]
  },
  {
   "cell_type": "code",
   "execution_count": 7,
   "id": "ac266278-6d14-4dd0-bc85-1d995887ad25",
   "metadata": {},
   "outputs": [
    {
     "name": "stdout",
     "output_type": "stream",
     "text": [
      "Mean of each column:\n",
      "column_1    0.563540\n",
      "column_2    0.537666\n",
      "column_3    0.552383\n",
      "column_4    0.414401\n",
      "column_5    0.302613\n",
      "column_6    0.558677\n",
      "dtype: float64\n",
      "\n",
      "Standard deviation of column 'column_2':\n",
      "0.24253108248430194\n"
     ]
    }
   ],
   "source": [
    "#4.\n",
    "print(\"Mean of each column:\")\n",
    "print(df1.mean())\n",
    "\n",
    "print(\"\\nStandard deviation of column 'column_2':\")\n",
    "print(df1['column_2'].std())\n"
   ]
  },
  {
   "cell_type": "code",
   "execution_count": 10,
   "id": "8242d9c3-e9b2-4cb3-b603-bee77580b6a9",
   "metadata": {},
   "outputs": [],
   "source": [
    "#5.\n",
    "# Replacing data in the second row of column 'column_2'\n",
    "df1.loc[2, 'column_2'] = \"String Data\"\n",
    "\n",
    "# This will raise an error when calculating the mean due to the presence of string data in the column.\n",
    "# Uncomment the following lines to see the error:\n",
    "# print(\"Mean of column 'column_2' after replacing data:\")\n",
    "# print(df1['column_2'].mean())\n"
   ]
  },
  {
   "cell_type": "markdown",
   "id": "2a58203a-6fdb-4051-93bd-f8f496d5a4f4",
   "metadata": {},
   "source": [
    "The replacement of a numerical column's data with a string will prevent you from calculating the mean because the presence of non-numeric data (string) makes the column non-numeric. Uncommenting the lines will result in a TypeError."
   ]
  },
  {
   "cell_type": "markdown",
   "id": "ae9b7081-e3e0-4a89-a265-d7e8bd0448ac",
   "metadata": {},
   "source": [
    "#6.\n",
    "Windows functions in pandas are used for performing calculations on a \"window\" of data, often over a rolling or expanding range. Common types of window functions include rolling mean, rolling sum, rolling standard deviation, etc."
   ]
  },
  {
   "cell_type": "code",
   "execution_count": 11,
   "id": "2d020a51-c3f8-4b93-bd1a-cea23f1bf5b4",
   "metadata": {},
   "outputs": [
    {
     "name": "stdout",
     "output_type": "stream",
     "text": [
      "Current month and year: August 2023\n"
     ]
    }
   ],
   "source": [
    "#7.\n",
    "import pandas as pd\n",
    "\n",
    "current_date = pd.Timestamp.now()\n",
    "print(\"Current month and year:\", current_date.strftime(\"%B %Y\"))\n"
   ]
  },
  {
   "cell_type": "code",
   "execution_count": 13,
   "id": "26041f5a-70da-4689-a0f8-08e470ac8a5a",
   "metadata": {},
   "outputs": [
    {
     "name": "stdin",
     "output_type": "stream",
     "text": [
      "Enter the first date (YYYY-MM-DD):  2023-08-11\n",
      "Enter the second date (YYYY-MM-DD):  2023-11-4\n"
     ]
    },
    {
     "name": "stdout",
     "output_type": "stream",
     "text": [
      "Time difference:\n",
      "85 days, 0 hours, 0 minutes.\n"
     ]
    }
   ],
   "source": [
    "#8.\n",
    "import pandas as pd\n",
    "\n",
    "date1 = pd.Timestamp(input(\"Enter the first date (YYYY-MM-DD): \"))\n",
    "date2 = pd.Timestamp(input(\"Enter the second date (YYYY-MM-DD): \"))\n",
    "\n",
    "time_difference = date2 - date1\n",
    "days = time_difference.days\n",
    "hours, remainder = divmod(time_difference.seconds, 3600)\n",
    "minutes, seconds = divmod(remainder, 60)\n",
    "\n",
    "print(\"Time difference:\")\n",
    "print(f\"{days} days, {hours} hours, {minutes} minutes.\")\n"
   ]
  },
  {
   "cell_type": "code",
   "execution_count": null,
   "id": "18d64741-ca80-46f8-af0d-a9c65338f6bb",
   "metadata": {},
   "outputs": [],
   "source": []
  },
  {
   "cell_type": "code",
   "execution_count": null,
   "id": "6efb7f94-ed25-4aa1-a270-4aed6d53473c",
   "metadata": {},
   "outputs": [],
   "source": [
    "\n"
   ]
  },
  {
   "cell_type": "code",
   "execution_count": null,
   "id": "fa31114a-cee0-43d2-b4c6-77d6b16108e7",
   "metadata": {},
   "outputs": [],
   "source": []
  }
 ],
 "metadata": {
  "kernelspec": {
   "display_name": "Python 3 (ipykernel)",
   "language": "python",
   "name": "python3"
  },
  "language_info": {
   "codemirror_mode": {
    "name": "ipython",
    "version": 3
   },
   "file_extension": ".py",
   "mimetype": "text/x-python",
   "name": "python",
   "nbconvert_exporter": "python",
   "pygments_lexer": "ipython3",
   "version": "3.10.8"
  }
 },
 "nbformat": 4,
 "nbformat_minor": 5
}
