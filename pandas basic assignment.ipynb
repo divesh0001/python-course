{
 "cells": [
  {
   "cell_type": "code",
   "execution_count": 1,
   "id": "de01fe1b-16af-4ddc-bec0-d459378282c5",
   "metadata": {},
   "outputs": [
    {
     "name": "stdout",
     "output_type": "stream",
     "text": [
      "0     4\n",
      "1     8\n",
      "2    15\n",
      "3    16\n",
      "4    23\n",
      "5    42\n",
      "dtype: int64\n"
     ]
    }
   ],
   "source": [
    "import pandas as pd\n",
    "\n",
    "data = [4, 8, 15, 16, 23, 42]\n",
    "series = pd.Series(data)\n",
    "print(series)\n"
   ]
  },
  {
   "cell_type": "code",
   "execution_count": 2,
   "id": "02ddb109-f850-4cf1-bc72-8fe0884ea3bf",
   "metadata": {},
   "outputs": [
    {
     "name": "stdout",
     "output_type": "stream",
     "text": [
      "0     5\n",
      "1    10\n",
      "2    15\n",
      "3    20\n",
      "4    25\n",
      "5    30\n",
      "6    35\n",
      "7    40\n",
      "8    45\n",
      "9    50\n",
      "dtype: int64\n"
     ]
    }
   ],
   "source": [
    "import pandas as pd\n",
    "\n",
    "my_list = [5, 10, 15, 20, 25, 30, 35, 40, 45, 50]\n",
    "series = pd.Series(my_list)\n",
    "print(series)\n"
   ]
  },
  {
   "cell_type": "code",
   "execution_count": 5,
   "id": "b1602fc5-5bc7-4df5-af4f-d0f814ca0852",
   "metadata": {},
   "outputs": [
    {
     "name": "stdout",
     "output_type": "stream",
     "text": [
      "     Name  Age  Gender\n",
      "0   Alice   25  Female\n",
      "1     Bob   30    Male\n",
      "2  Claire   27  Female\n"
     ]
    }
   ],
   "source": [
    "\n",
    "\n",
    "data = {\n",
    "    'Name': ['Alice', 'Bob', 'Claire'],\n",
    "    'Age': [25, 30, 27],\n",
    "    'Gender': ['Female', 'Male', 'Female']\n",
    "}\n",
    "\n",
    "df = pd.DataFrame(data)\n",
    "print(df)\n"
   ]
  },
  {
   "cell_type": "code",
   "execution_count": 6,
   "id": "8bdda0d4-ff9e-49ed-9f26-96d0e65e141f",
   "metadata": {},
   "outputs": [
    {
     "name": "stdout",
     "output_type": "stream",
     "text": [
      "Series:\n",
      "0    25\n",
      "1    30\n",
      "2    27\n",
      "Name: Age, dtype: int64\n",
      "\n",
      "DataFrame:\n",
      "     Name  Gender\n",
      "0   Alice  Female\n",
      "1     Bob    Male\n",
      "2  Claire  Female\n"
     ]
    }
   ],
   "source": [
    "'''\n",
    "A DataFrame in pandas is a 2-dimensional labeled data structure, similar to a table in a relational database or a spreadsheet in Excel. It consists \n",
    "of rows and columns, where each column can have a different data type. Think of a DataFrame as a collection of Pandas Series, where each Series\n",
    "represents a column of data with an associated label (column name).\n",
    "\n",
    "A Pandas Series is a 1-dimensional labeled array, essentially a single column of data with associated labels (index). It can hold data of various \n",
    "types, including integers, floats, strings, and more.'''\n",
    "\n",
    "ages = pd.Series([25, 30, 27], name='Age')\n",
    "\n",
    "# Creating a DataFrame\n",
    "data = {\n",
    "    'Name': ['Alice', 'Bob', 'Claire'],\n",
    "    'Gender': ['Female', 'Male', 'Female']\n",
    "}\n",
    "df = pd.DataFrame(data)\n",
    "\n",
    "# Printing the Series and DataFrame\n",
    "print(\"Series:\")\n",
    "print(ages)\n",
    "\n",
    "print(\"\\nDataFrame:\")\n",
    "print(df)\n"
   ]
  },
  {
   "cell_type": "code",
   "execution_count": 7,
   "id": "a8c968c8-e151-44fd-a832-a8bd456e2843",
   "metadata": {},
   "outputs": [
    {
     "data": {
      "text/plain": [
       "'head() and tail(): These functions display the first few or last few rows of the DataFrame, respectively.\\ndescribe(): Provides summary statistics for numerical columns.\\ngroupby(): Used to group data based on certain columns and perform aggregate operations.\\ndrop(): Allows you to remove rows or columns from the DataFrame.\\nsort_values(): Sorts the DataFrame based on specified columns.\\nmerge() and concat(): Used to combine DataFrames.'"
      ]
     },
     "execution_count": 7,
     "metadata": {},
     "output_type": "execute_result"
    }
   ],
   "source": [
    "'''head() and tail(): These functions display the first few or last few rows of the DataFrame, respectively.\n",
    "describe(): Provides summary statistics for numerical columns.\n",
    "groupby(): Used to group data based on certain columns and perform aggregate operations.\n",
    "drop(): Allows you to remove rows or columns from the DataFrame.\n",
    "sort_values(): Sorts the DataFrame based on specified columns.\n",
    "merge() and concat(): Used to combine DataFrames.'''\n"
   ]
  },
  {
   "cell_type": "code",
   "execution_count": 8,
   "id": "d71ba5f2-d6b0-4580-8b36-af45c895a53d",
   "metadata": {},
   "outputs": [
    {
     "data": {
      "text/plain": [
       "'\\n. Among Series, DataFrame, and Panel, DataFrame is mutable in nature. This means you can modify the values, add or remove columns, and perform \\nvarious operations on the DataFrame without creating a new instance.'"
      ]
     },
     "execution_count": 8,
     "metadata": {},
     "output_type": "execute_result"
    }
   ],
   "source": [
    "'''\n",
    ". Among Series, DataFrame, and Panel, DataFrame is mutable in nature. This means you can modify the values, add or remove columns, and perform \n",
    "various operations on the DataFrame without creating a new instance.'''"
   ]
  },
  {
   "cell_type": "code",
   "execution_count": null,
   "id": "03699023-1a78-4af8-b2d9-a79f0f12c48a",
   "metadata": {},
   "outputs": [],
   "source": [
    "\n",
    "names = pd.Series(['Alice', 'Bob', 'Claire'], name='Name')\n",
    "ages = pd.Series([25, 30, 27], name='Age')\n",
    "genders = pd.Series(['Female', 'Male', 'Female'], name='Gender')\n",
    "\n",
    "data = {'Name': names, 'Age': ages, 'Gender': genders}\n",
    "df = pd.DataFrame(data)\n",
    "\n",
    "print(df)\n"
   ]
  }
 ],
 "metadata": {
  "kernelspec": {
   "display_name": "Python 3 (ipykernel)",
   "language": "python",
   "name": "python3"
  },
  "language_info": {
   "codemirror_mode": {
    "name": "ipython",
    "version": 3
   },
   "file_extension": ".py",
   "mimetype": "text/x-python",
   "name": "python",
   "nbconvert_exporter": "python",
   "pygments_lexer": "ipython3",
   "version": "3.10.8"
  }
 },
 "nbformat": 4,
 "nbformat_minor": 5
}
