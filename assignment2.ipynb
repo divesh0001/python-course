{
 "cells": [
  {
   "cell_type": "code",
   "execution_count": 3,
   "id": "42b6b281-f7e8-4651-9e0b-a3fe28c2fa01",
   "metadata": {},
   "outputs": [
    {
     "data": {
      "text/plain": [
       "'\\nThis is a multi-line comment.\\nIt can span across multiple lines.\\n'"
      ]
     },
     "execution_count": 3,
     "metadata": {},
     "output_type": "execute_result"
    }
   ],
   "source": [
    "#1 \n",
    "#this is Single-line comments:\n",
    "'''\n",
    "This is a multi-line comment.\n",
    "It can span across multiple lines.\n",
    "'''"
   ]
  },
  {
   "cell_type": "code",
   "execution_count": 4,
   "id": "f5c8f3ec-33b0-4079-8127-16d27373eba8",
   "metadata": {},
   "outputs": [],
   "source": [
    "#2 In Python, variables are used to store data values. They act as placeholders that can hold different types of data, such as numbers, strings, or objects\n",
    "x = 10\n",
    "name = \"divesh\"\n"
   ]
  },
  {
   "cell_type": "code",
   "execution_count": 6,
   "id": "dcc7a923-d466-46b5-a5cf-ac850f2eb4c6",
   "metadata": {},
   "outputs": [
    {
     "data": {
      "text/plain": [
       "'int(): Converts a value to an integer data type.\\nExample: x = int(3.14) will assign the value 3 (integer) to the variable x.\\n\\nfloat(): Converts a value to a floating-point (decimal) data type.\\nExample: y = float(\"5.6\") will assign the value 5.6 (float) to the variable y.\\n\\nstr(): Converts a value to a string data type.\\nExample: z = str(42) will assign the value \"42\" (string) to the variable z.\\n\\nlist(): Converts an iterable (such as a tuple or string) to a list data type.\\nExample: my_list = list((1, 2, 3)) will assign the list [1, 2, 3] to the variable my_list.\\n\\ntuple(): Converts an iterable (such as a list or string) to a tuple data type.\\nExample: my_tuple = tuple([4, 5, 6]) will assign the tuple (4, 5, 6) to the variable my_tuple.\\n\\ndict(): Converts a sequence of key-value pairs into a dictionary data type.\\nExample: my_dict = dict([(1, \\'one\\'), (2, \\'two\\')]) will assign the dictionary {1: \\'one\\', 2: \\'two\\'} to the variable my_dict.'"
      ]
     },
     "execution_count": 6,
     "metadata": {},
     "output_type": "execute_result"
    }
   ],
   "source": [
    "#3In Python, you can convert one data type to another by using type conversion functions or constructors. Here are some commonly used methods for data type conversion:\n",
    "\n",
    "'''int(): Converts a value to an integer data type.\n",
    "Example: x = int(3.14) will assign the value 3 (integer) to the variable x.\n",
    "\n",
    "float(): Converts a value to a floating-point (decimal) data type.\n",
    "Example: y = float(\"5.6\") will assign the value 5.6 (float) to the variable y.\n",
    "\n",
    "str(): Converts a value to a string data type.\n",
    "Example: z = str(42) will assign the value \"42\" (string) to the variable z.\n",
    "\n",
    "list(): Converts an iterable (such as a tuple or string) to a list data type.\n",
    "Example: my_list = list((1, 2, 3)) will assign the list [1, 2, 3] to the variable my_list.\n",
    "\n",
    "tuple(): Converts an iterable (such as a list or string) to a tuple data type.\n",
    "Example: my_tuple = tuple([4, 5, 6]) will assign the tuple (4, 5, 6) to the variable my_tuple.\n",
    "\n",
    "dict(): Converts a sequence of key-value pairs into a dictionary data type.\n",
    "Example: my_dict = dict([(1, 'one'), (2, 'two')]) will assign the dictionary {1: 'one', 2: 'two'} to the variable my_dict.'''"
   ]
  },
  {
   "cell_type": "code",
   "execution_count": 8,
   "id": "aa729b2c-975a-4e54-937d-9cf8a8f2257e",
   "metadata": {},
   "outputs": [
    {
     "data": {
      "text/plain": [
       "'To write and execute a Python script from the command line, follow these steps:\\n\\nOpen a text editor and create a new file. Save the file with a .py extension, which is the standard file extension for Python scripts. For example, you can name it script.py.\\n\\nOpen the file in the text editor and write your Python code. For example, you can write a simple script that prints \"Hello, world!\":\\n\\nprint(\"Hello, world!\")\\nSave the file after writing your code.\\n\\nOpen a command prompt or terminal window.\\n\\nNavigate to the directory where your Python script is saved using the cd command. For example, if your script is saved in the Documents folder, you can navigate to it by running the command:\\n\\n\\ncd Documents\\nOnce you are in the correct directory, you can execute the Python script by typing python followed by the script\\'s filename. In our example, you would run the command:\\nCopy code\\npython script.py\\nPress Enter to execute the command. The Python interpreter will run your script, and if everything is correct, it will display the output in the command prompt or terminal.'"
      ]
     },
     "execution_count": 8,
     "metadata": {},
     "output_type": "execute_result"
    }
   ],
   "source": [
    "#4\n",
    "'''To write and execute a Python script from the command line, follow these steps:\n",
    "\n",
    "Open a text editor and create a new file. Save the file with a .py extension, which is the standard file extension for Python scripts. For example, you can name it script.py.\n",
    "\n",
    "Open the file in the text editor and write your Python code. For example, you can write a simple script that prints \"Hello, world!\":\n",
    "\n",
    "print(\"Hello, world!\")\n",
    "Save the file after writing your code.\n",
    "\n",
    "Open a command prompt or terminal window.\n",
    "\n",
    "Navigate to the directory where your Python script is saved using the cd command. For example, if your script is saved in the Documents folder, you can navigate to it by running the command:\n",
    "\n",
    "\n",
    "cd Documents\n",
    "Once you are in the correct directory, you can execute the Python script by typing python followed by the script's filename. In our example, you would run the command:\n",
    "Copy code\n",
    "python script.py\n",
    "Press Enter to execute the command. The Python interpreter will run your script, and if everything is correct, it will display the output in the command prompt or terminal.'''"
   ]
  },
  {
   "cell_type": "code",
   "execution_count": 9,
   "id": "79cb60c9-d8ef-46dc-8514-468c11a63e4f",
   "metadata": {},
   "outputs": [
    {
     "name": "stdout",
     "output_type": "stream",
     "text": [
      "[2, 3]\n"
     ]
    }
   ],
   "source": [
    "#5\n",
    "my_list = [1, 2, 3, 4, 5]\n",
    "sub_list = my_list[1:3]\n",
    "print(sub_list)\n"
   ]
  },
  {
   "cell_type": "code",
   "execution_count": 11,
   "id": "4eb37d4e-c2d2-4c95-99f7-faa42e03b3e9",
   "metadata": {},
   "outputs": [
    {
     "data": {
      "text/plain": [
       "'In mathematics, a complex number is a number of the form a + bi, where a and b are real numbers, and i is the imaginary unit defined as the square root of -1. The real part a represents the real component of the complex number, and the imaginary part b represents the imaginary component.\\n\\nIn Python, complex numbers are represented using the complex data type. The imaginary part is denoted using the character j instead of i. The syntax to define a complex number in Python is a + bj, where a and b are the real and imaginary components, respectively.\\n\\na = 2 + 3j'"
      ]
     },
     "execution_count": 11,
     "metadata": {},
     "output_type": "execute_result"
    }
   ],
   "source": [
    "#6\n",
    "'''In mathematics, a complex number is a number of the form a + bi, where a and b are real numbers, and i is the imaginary unit \n",
    "defined as the square root of -1. The real part a represents the real component of the complex number, and the imaginary part b \n",
    "represents the imaginary component.\n",
    "\n",
    "In Python, complex numbers are represented using the complex data type. The imaginary part is denoted using the character j \n",
    "instead of i. The syntax to define a complex number in Python is a + bj, where a and b are the real and imaginary components, respectively.\n",
    "\n",
    "a = 2 + 3j'''"
   ]
  },
  {
   "cell_type": "code",
   "execution_count": 12,
   "id": "3435d6ce-1561-459d-870f-416c1685667b",
   "metadata": {},
   "outputs": [],
   "source": [
    "#7\n",
    "'''In this line of code, age is the variable name, and 25 is the value assigned to the variable. \n",
    "The = symbol is the assignment operator, which assigns the value on the right side to the variable on the left side.\n",
    "\n",
    "After executing this code, the variable age will be created and assigned the value 25. '''\n",
    "age = 25\n"
   ]
  },
  {
   "cell_type": "code",
   "execution_count": 13,
   "id": "21fe6500-7862-4b48-b6a9-5177579e8ad2",
   "metadata": {},
   "outputs": [],
   "source": [
    "#8\n",
    "price = 9.99\n",
    "#it is a float data type"
   ]
  },
  {
   "cell_type": "code",
   "execution_count": 14,
   "id": "1fdf942d-d44e-437c-acb1-99cc83aa32a0",
   "metadata": {},
   "outputs": [
    {
     "name": "stdout",
     "output_type": "stream",
     "text": [
      "Divesh\n"
     ]
    }
   ],
   "source": [
    "#9\n",
    "name = \"Divesh Saini\"\n",
    "print(\"Divesh\")\n"
   ]
  },
  {
   "cell_type": "code",
   "execution_count": 16,
   "id": "19a48c50-8135-4725-8ca7-114d145a6b2c",
   "metadata": {},
   "outputs": [
    {
     "data": {
      "text/plain": [
       "'World!'"
      ]
     },
     "execution_count": 16,
     "metadata": {},
     "output_type": "execute_result"
    }
   ],
   "source": [
    "#10\n",
    "a=\"Hello, World!\"\n",
    "a[7::]"
   ]
  },
  {
   "cell_type": "code",
   "execution_count": null,
   "id": "4389d67e-4106-42ae-ad2b-445b350aa291",
   "metadata": {},
   "outputs": [],
   "source": [
    "#11\n",
    "'''To create a variable named is_student and assign it a Boolean value indicating whether you are currently a student or not, \n",
    "you can use the following code:\n",
    "is_student = True\n",
    "Boolean values in Python can be either True or False. They are used to represent the concept of truth or falsehood. In this case, True represents that you are currently a student, and False would indicate that you are not a student."
   ]
  }
 ],
 "metadata": {
  "kernelspec": {
   "display_name": "Python 3 (ipykernel)",
   "language": "python",
   "name": "python3"
  },
  "language_info": {
   "codemirror_mode": {
    "name": "ipython",
    "version": 3
   },
   "file_extension": ".py",
   "mimetype": "text/x-python",
   "name": "python",
   "nbconvert_exporter": "python",
   "pygments_lexer": "ipython3",
   "version": "3.10.8"
  }
 },
 "nbformat": 4,
 "nbformat_minor": 5
}
