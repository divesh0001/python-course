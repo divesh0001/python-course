{
 "cells": [
  {
   "cell_type": "code",
   "execution_count": 2,
   "id": "fe4ea760-1223-4b9c-87f2-45fae0958f25",
   "metadata": {},
   "outputs": [
    {
     "data": {
      "text/plain": [
       "\"\\nAn exception in Python is an event that occurs during the execution of a program, which disrupts the normal flow of the program's instructions.\\nWhen an exceptional situation arises, an exception object is created, and the normal execution flow is interrupted. The program then jumps to a \\nspecific exception-handling code block, allowing you to handle the exception gracefully.\\n\\nHere are the key differences between exceptions and syntax errors in Python:\\n\\n1. Occurrence: Exceptions occur during the runtime of a program when an error or exceptional condition is encountered, while syntax errors occur\\nduring the parsing phase before the program starts executing.\\n\\n2. Detection: Exceptions are detected during runtime when a specific line of code is executed, and an exceptional condition arises, whereas syntax\\nerrors are detected by the Python interpreter when it tries to parse the code and encounters a violation of the language syntax rules.\\n\\n3. Handling: Exceptions can be caught and handled using try-except blocks. When an exception occurs, the program flow transfers to the nearest \\nexcept block that can handle the specific type of exception. On the other hand, syntax errors cannot be caught and handled within the program. \\nThey need to be fixed by correcting the syntax mistake in the code.\\n\\n4. Impact on program execution: Exceptions, when not handled, can lead to program termination if there is no suitable exception handler to catch and \\nhandle the exception. Syntax errors prevent the program from running altogether until the errors are fixed.\\n\\nIn summary, exceptions are runtime errors that occur during program execution and can be caught and handled, while syntax errors are detected before \\nthe program starts running and require code correction to resolve.\\n\""
      ]
     },
     "execution_count": 2,
     "metadata": {},
     "output_type": "execute_result"
    }
   ],
   "source": [
    "#1\n",
    "'''\n",
    "An exception in Python is an event that occurs during the execution of a program, which disrupts the normal flow of the program's instructions.\n",
    "When an exceptional situation arises, an exception object is created, and the normal execution flow is interrupted. The program then jumps to a \n",
    "specific exception-handling code block, allowing you to handle the exception gracefully.\n",
    "\n",
    "Here are the key differences between exceptions and syntax errors in Python:\n",
    "\n",
    "1. Occurrence: Exceptions occur during the runtime of a program when an error or exceptional condition is encountered, while syntax errors occur\n",
    "during the parsing phase before the program starts executing.\n",
    "\n",
    "2. Detection: Exceptions are detected during runtime when a specific line of code is executed, and an exceptional condition arises, whereas syntax\n",
    "errors are detected by the Python interpreter when it tries to parse the code and encounters a violation of the language syntax rules.\n",
    "\n",
    "3. Handling: Exceptions can be caught and handled using try-except blocks. When an exception occurs, the program flow transfers to the nearest \n",
    "except block that can handle the specific type of exception. On the other hand, syntax errors cannot be caught and handled within the program. \n",
    "They need to be fixed by correcting the syntax mistake in the code.\n",
    "\n",
    "4. Impact on program execution: Exceptions, when not handled, can lead to program termination if there is no suitable exception handler to catch and \n",
    "handle the exception. Syntax errors prevent the program from running altogether until the errors are fixed.\n",
    "\n",
    "In summary, exceptions are runtime errors that occur during program execution and can be caught and handled, while syntax errors are detected before \n",
    "the program starts running and require code correction to resolve.\n",
    "'''"
   ]
  },
  {
   "cell_type": "code",
   "execution_count": 3,
   "id": "31411429-442a-4b97-a81f-ab53488f6df7",
   "metadata": {},
   "outputs": [
    {
     "ename": "ZeroDivisionError",
     "evalue": "division by zero",
     "output_type": "error",
     "traceback": [
      "\u001b[0;31m---------------------------------------------------------------------------\u001b[0m",
      "\u001b[0;31mZeroDivisionError\u001b[0m                         Traceback (most recent call last)",
      "Cell \u001b[0;32mIn[3], line 13\u001b[0m\n\u001b[1;32m     10\u001b[0m     \u001b[38;5;28;01mreturn\u001b[39;00m a \u001b[38;5;241m/\u001b[39m b\n\u001b[1;32m     12\u001b[0m \u001b[38;5;66;03m# Attempting to divide a number by zero\u001b[39;00m\n\u001b[0;32m---> 13\u001b[0m result \u001b[38;5;241m=\u001b[39m \u001b[43mdivide\u001b[49m\u001b[43m(\u001b[49m\u001b[38;5;241;43m10\u001b[39;49m\u001b[43m,\u001b[49m\u001b[43m \u001b[49m\u001b[38;5;241;43m0\u001b[39;49m\u001b[43m)\u001b[49m\n\u001b[1;32m     14\u001b[0m \u001b[38;5;28mprint\u001b[39m(result)\n",
      "Cell \u001b[0;32mIn[3], line 10\u001b[0m, in \u001b[0;36mdivide\u001b[0;34m(a, b)\u001b[0m\n\u001b[1;32m      9\u001b[0m \u001b[38;5;28;01mdef\u001b[39;00m \u001b[38;5;21mdivide\u001b[39m(a, b):\n\u001b[0;32m---> 10\u001b[0m     \u001b[38;5;28;01mreturn\u001b[39;00m \u001b[43ma\u001b[49m\u001b[43m \u001b[49m\u001b[38;5;241;43m/\u001b[39;49m\u001b[43m \u001b[49m\u001b[43mb\u001b[49m\n",
      "\u001b[0;31mZeroDivisionError\u001b[0m: division by zero"
     ]
    }
   ],
   "source": [
    "#2\n",
    "'''When an exception is not handled in a Python program, it leads to an abrupt termination of the program. The exception propagates up the call \n",
    "stack until it reaches the top level of the program, and if no exception handler is found, the default behavior is to display an error message \n",
    "and a traceback, indicating the type of exception and the line of code where it occurred.\n",
    "\n",
    "Here's an example to illustrate what happens when an exception is not handled:\n",
    "\n",
    "'''\n",
    "def divide(a, b):\n",
    "    return a / b\n",
    "\n",
    "# Attempting to divide a number by zero\n",
    "result = divide(10, 0)\n",
    "print(result)"
   ]
  },
  {
   "cell_type": "code",
   "execution_count": 4,
   "id": "d2fed26a-8d4a-48e6-b602-038675c99533",
   "metadata": {},
   "outputs": [
    {
     "name": "stdout",
     "output_type": "stream",
     "text": [
      "5.0\n",
      "Error: Division by zero is not allowed.\n",
      "None\n"
     ]
    }
   ],
   "source": [
    "#3\n",
    "'''n Python, the try-except statements are used to handle exceptions. The try block contains the code that might raise an exception, and the except \n",
    "block specifies the code to be executed if a specific exception is raised within the try block. Here's an example to demonstrate the usage of \n",
    "try-except statements:\n",
    "'''\n",
    "def divide(a, b):\n",
    "    try:\n",
    "        result = a / b\n",
    "        return result\n",
    "    except ZeroDivisionError:\n",
    "        print(\"Error: Division by zero is not allowed.\")\n",
    "        return None\n",
    "\n",
    "# Example 1: Division with a non-zero denominator\n",
    "result1 = divide(10, 2)\n",
    "print(result1)  # Output: 5.0\n",
    "\n",
    "# Example 2: Division by zero\n",
    "result2 = divide(10, 0)\n",
    "print(result2) "
   ]
  },
  {
   "cell_type": "code",
   "execution_count": 5,
   "id": "fb40bb5f-f17f-4184-8463-55514eaae355",
   "metadata": {},
   "outputs": [
    {
     "name": "stdout",
     "output_type": "stream",
     "text": [
      "The division result is: 5.0\n",
      "Division operation completed.\n",
      "Error: Division by zero is not allowed.\n",
      "Division operation completed.\n"
     ]
    },
    {
     "data": {
      "text/plain": [
       "'In the above code, the try block contains the code that might raise an exception, which is the division operation. If no exception occurs, \\nthe code inside the else block is executed. The else block is optional and executes only when no exception is raised in the try block. In this\\nexample, it prints the division result.\\n\\nIf a ZeroDivisionError exception is raised within the try block, the program flow jumps to the corresponding except block. The except block handles\\nthe exception and prints an error message.\\n\\nThe finally block is executed regardless of whether an exception occurred or not. It is used to perform cleanup tasks or release resources. In this\\nexample, it prints a message indicating the completion of the division operation.\\n\\nWhen Example 1 is executed, a division with a non-zero denominator (10 divided by 2) is performed. Since no exception occurs, the code inside the\\nelse block is executed, printing the division result (5.0), followed by the message from the finally block.\\n\\nWhen Example 2 is executed, a division by zero (10 divided by 0) is attempted, which raises a ZeroDivisionError. The exception is caught by the\\nexcept block, which prints an error message. The finally block is still executed after handling the exception.\\n'"
      ]
     },
     "execution_count": 5,
     "metadata": {},
     "output_type": "execute_result"
    }
   ],
   "source": [
    "#4\n",
    "'''Certainly! In Python, the try-except-else-finally statement allows for more comprehensive exception handling. Here's an example that \n",
    "demonstrates the usage of try, except, else, and finally blocks:\n",
    "\n",
    "'''\n",
    "def divide(a, b):\n",
    "    try:\n",
    "        result = a / b\n",
    "    except ZeroDivisionError:\n",
    "        print(\"Error: Division by zero is not allowed.\")\n",
    "    else:\n",
    "        print(\"The division result is:\", result)\n",
    "    finally:\n",
    "        print(\"Division operation completed.\")\n",
    "\n",
    "# Example 1: Division with a non-zero denominator\n",
    "divide(10, 2)\n",
    "# Output:\n",
    "# The division result is: 5.0\n",
    "# Division operation completed.\n",
    "\n",
    "# Example 2: Division by zero\n",
    "divide(10, 0)\n",
    "# Output:\n",
    "# Error: Division by zero is not allowed.\n",
    "# Division operation completed.\n",
    "'''In the above code, the try block contains the code that might raise an exception, which is the division operation. If no exception occurs, \n",
    "the code inside the else block is executed. The else block is optional and executes only when no exception is raised in the try block. In this\n",
    "example, it prints the division result.\n",
    "\n",
    "If a ZeroDivisionError exception is raised within the try block, the program flow jumps to the corresponding except block. The except block handles\n",
    "the exception and prints an error message.\n",
    "\n",
    "The finally block is executed regardless of whether an exception occurred or not. It is used to perform cleanup tasks or release resources. In this\n",
    "example, it prints a message indicating the completion of the division operation.\n",
    "\n",
    "When Example 1 is executed, a division with a non-zero denominator (10 divided by 2) is performed. Since no exception occurs, the code inside the\n",
    "else block is executed, printing the division result (5.0), followed by the message from the finally block.\n",
    "\n",
    "When Example 2 is executed, a division by zero (10 divided by 0) is attempted, which raises a ZeroDivisionError. The exception is caught by the\n",
    "except block, which prints an error message. The finally block is still executed after handling the exception.\n",
    "'''\n"
   ]
  },
  {
   "cell_type": "code",
   "execution_count": 6,
   "id": "00f3e323-88c8-45fe-a56e-dea497edb752",
   "metadata": {},
   "outputs": [
    {
     "name": "stdout",
     "output_type": "stream",
     "text": [
      "Insufficient funds. Available balance: 100. Required amount: 200\n"
     ]
    },
    {
     "data": {
      "text/plain": [
       "'In the above code, we define a custom exception class `InsufficientFundsError` that inherits from the base `Exception` class. This exception is\\nmeant to handle cases where a withdrawal amount exceeds the available balance.\\n\\nThe `InsufficientFundsError` class has an `__init__` method to initialize the exception object with the available balance and the required withdrawal \\namount. It also overrides the `__str__` method to provide a customized error message when the exception is raised.\\n\\nThe `withdraw` function checks if the withdrawal amount is greater than the account balance. If it is, the function raises an `InsufficientFundsError`\\nexception with the current balance and the requested amount.\\n\\nIn the example usage, the account balance is set to `100`, and an attempt is made to withdraw `200`. Since the withdrawal amount exceeds the available\\nbalance, the `withdraw` function raises the `InsufficientFundsError` exception. This exception is caught in the `except` block, and the custom error\\nmessage defined in the `InsufficientFundsError` class is printed.\\n\\nBy using custom exceptions, you can handle specific exceptional conditions with more precision, provide clear error messages, and structure your code \\nto handle different types of errors in a more organized manner.'"
      ]
     },
     "execution_count": 6,
     "metadata": {},
     "output_type": "execute_result"
    }
   ],
   "source": [
    "#5\n",
    "'''In Python, custom exceptions are user-defined exceptions that allow you to create and raise your own specific exceptions based on your program's\n",
    "requirements. You can define custom exception classes by creating a new class that inherits from the built-in `Exception` class or any of its\n",
    "subclasses.\n",
    "\n",
    "Custom exceptions are useful in situations where you need to handle specific exceptional conditions that are not adequately covered by the built-in\n",
    "exception classes. By defining custom exceptions, you can provide more meaningful error messages, encapsulate specific logic related to exceptional\n",
    "conditions, and distinguish different types of errors in your code.\n",
    "\n",
    "Here's an example to illustrate the usage and benefits of custom exceptions:\n",
    "\n",
    "'''\n",
    "class InsufficientFundsError(Exception):\n",
    "    \"\"\"Custom exception for insufficient funds error.\"\"\"\n",
    "\n",
    "    def __init__(self, balance, amount):\n",
    "        self.balance = balance\n",
    "        self.amount = amount\n",
    "\n",
    "    def __str__(self):\n",
    "        return f\"Insufficient funds. Available balance: {self.balance}. Required amount: {self.amount}\"\n",
    "\n",
    "\n",
    "def withdraw(balance, amount):\n",
    "    if amount > balance:\n",
    "        raise InsufficientFundsError(balance, amount)\n",
    "    else:\n",
    "        print(\"Withdrawal successful.\")\n",
    "\n",
    "\n",
    "# Example usage of custom exception\n",
    "account_balance = 100\n",
    "withdraw_amount = 200\n",
    "\n",
    "try:\n",
    "    withdraw(account_balance, withdraw_amount)\n",
    "except InsufficientFundsError as e:\n",
    "    print(e)\n",
    "\n",
    "\n",
    "'''In the above code, we define a custom exception class `InsufficientFundsError` that inherits from the base `Exception` class. This exception is\n",
    "meant to handle cases where a withdrawal amount exceeds the available balance.\n",
    "\n",
    "The `InsufficientFundsError` class has an `__init__` method to initialize the exception object with the available balance and the required withdrawal \n",
    "amount. It also overrides the `__str__` method to provide a customized error message when the exception is raised.\n",
    "\n",
    "The `withdraw` function checks if the withdrawal amount is greater than the account balance. If it is, the function raises an `InsufficientFundsError`\n",
    "exception with the current balance and the requested amount.\n",
    "\n",
    "In the example usage, the account balance is set to `100`, and an attempt is made to withdraw `200`. Since the withdrawal amount exceeds the available\n",
    "balance, the `withdraw` function raises the `InsufficientFundsError` exception. This exception is caught in the `except` block, and the custom error\n",
    "message defined in the `InsufficientFundsError` class is printed.\n",
    "\n",
    "By using custom exceptions, you can handle specific exceptional conditions with more precision, provide clear error messages, and structure your code \n",
    "to handle different types of errors in a more organized manner.'''"
   ]
  },
  {
   "cell_type": "code",
   "execution_count": null,
   "id": "9f59041d-9e65-42ab-8d2f-bd788d3220a9",
   "metadata": {},
   "outputs": [],
   "source": [
    "#6\n",
    "'''Certainly! I'll demonstrate how to create a custom exception class and then use it to handle an exception.\n",
    "\n",
    "'''\n",
    "class CustomException(Exception):\n",
    "    \"\"\"Custom exception class.\"\"\"\n",
    "\n",
    "    def __init__(self, message):\n",
    "        self.message = message\n",
    "\n",
    "    def __str__(self):\n",
    "        return self.message\n",
    "\n",
    "\n",
    "def process_data(data):\n",
    "    if not isinstance(data, int):\n",
    "        raise CustomException(\"Invalid data type. Expected an integer.\")\n",
    "\n",
    "    # Process the data here\n",
    "\n",
    "\n",
    "# Example usage\n",
    "data = \"123\"\n",
    "\n",
    "try:\n",
    "    process_data(data)\n",
    "except CustomException as e:\n",
    "    print(\"Error:\", e)\n",
    "\n",
    "'''\n",
    "In the code above, we create a custom exception class called `CustomException`. It inherits from the base `Exception` class. The `CustomException`\n",
    "class has an `__init__` method to initialize the exception object with a custom error message. It also overrides the `__str__` method to provide a \n",
    "string representation of the exception when it is raised.\n",
    "\n",
    "The `process_data` function takes a parameter `data` and checks if it is an instance of the `int` class. If it's not, the function raises a `\n",
    "CustomException` with a specific error message.\n",
    "\n",
    "In the example usage, the variable `data` is assigned the value `\"123\"`, which is a string instead of an integer. When the `process_data` function \n",
    "is called, it raises a `CustomException` with the error message \"Invalid data type. Expected an integer.\" This exception is caught in the `except` \n",
    "block, and the custom error message is printed.\n",
    "\n",
    "By defining and using custom exception classes, you can create specialized exception handling for specific scenarios in your code, providing\n",
    "informative error messages and distinguishing different types of exceptional conditions.\n",
    "'''"
   ]
  }
 ],
 "metadata": {
  "kernelspec": {
   "display_name": "Python 3 (ipykernel)",
   "language": "python",
   "name": "python3"
  },
  "language_info": {
   "codemirror_mode": {
    "name": "ipython",
    "version": 3
   },
   "file_extension": ".py",
   "mimetype": "text/x-python",
   "name": "python",
   "nbconvert_exporter": "python",
   "pygments_lexer": "ipython3",
   "version": "3.10.8"
  }
 },
 "nbformat": 4,
 "nbformat_minor": 5
}
