{
 "cells": [
  {
   "cell_type": "code",
   "execution_count": 1,
   "id": "8b26e91e-592d-4fee-8104-9c089ceda0d2",
   "metadata": {},
   "outputs": [
    {
     "data": {
      "text/plain": [
       "\"Multithreading in Python refers to the concurrent execution of multiple threads within a single process. A thread is a separate flow of execution \\nthat can perform tasks independently, allowing for concurrent or parallel execution of different parts of a program.\\n\\nMultithreading is used to achieve concurrency, which enables programs to perform multiple tasks simultaneously and efficiently utilize system \\nresources. It is particularly useful in scenarios where tasks can be executed independently or where I/O operations can benefit from overlapping\\nexecution.\\n\\nPython provides a built-in module called `threading` to handle threads. The `threading` module offers a high-level interface and tools for creating \\nand managing threads in Python programs. It allows developers to create and start new threads, synchronize thread execution, and communicate between \\nthreads using various synchronization primitives such as locks, conditions, and semaphores.\\n\\nThe `threading` module provides a simple and effective way to introduce parallelism and concurrency in Python programs. By leveraging multiple threads\\n, tasks can be executed concurrently, improving overall performance and responsiveness in applications that involve I/O-bound operations or can\\nbenefit from parallel processing.\\n\\nHowever, it's important to note that due to the Global Interpreter Lock (GIL) in Python, threads are not always able to fully utilize multiple CPU \\ncores for CPU-bound tasks. In such cases, alternative approaches like multiprocessing or using external libraries like `concurrent.futures` may b\\nmore suitable.\\n\\nTo summarize, multithreading in Python allows for concurrent execution of multiple threads within a single process, enabling parallelism, efficient\\nresource utilization, and improved performance in certain scenarios. The `threading` module is used to handle threads in Python programs.\\n\""
      ]
     },
     "execution_count": 1,
     "metadata": {},
     "output_type": "execute_result"
    }
   ],
   "source": [
    "#1\n",
    "'''Multithreading in Python refers to the concurrent execution of multiple threads within a single process. A thread is a separate flow of execution \n",
    "that can perform tasks independently, allowing for concurrent or parallel execution of different parts of a program.\n",
    "\n",
    "Multithreading is used to achieve concurrency, which enables programs to perform multiple tasks simultaneously and efficiently utilize system \n",
    "resources. It is particularly useful in scenarios where tasks can be executed independently or where I/O operations can benefit from overlapping\n",
    "execution.\n",
    "\n",
    "Python provides a built-in module called `threading` to handle threads. The `threading` module offers a high-level interface and tools for creating \n",
    "and managing threads in Python programs. It allows developers to create and start new threads, synchronize thread execution, and communicate between \n",
    "threads using various synchronization primitives such as locks, conditions, and semaphores.\n",
    "\n",
    "The `threading` module provides a simple and effective way to introduce parallelism and concurrency in Python programs. By leveraging multiple threads\n",
    ", tasks can be executed concurrently, improving overall performance and responsiveness in applications that involve I/O-bound operations or can\n",
    "benefit from parallel processing.\n",
    "\n",
    "However, it's important to note that due to the Global Interpreter Lock (GIL) in Python, threads are not always able to fully utilize multiple CPU \n",
    "cores for CPU-bound tasks. In such cases, alternative approaches like multiprocessing or using external libraries like `concurrent.futures` may b\n",
    "more suitable.\n",
    "\n",
    "To summarize, multithreading in Python allows for concurrent execution of multiple threads within a single process, enabling parallelism, efficient\n",
    "resource utilization, and improved performance in certain scenarios. The `threading` module is used to handle threads in Python programs.\n",
    "'''"
   ]
  },
  {
   "cell_type": "code",
   "execution_count": 1,
   "id": "934e3eb6-1847-455e-852b-a0edd28ef5ec",
   "metadata": {},
   "outputs": [
    {
     "name": "stdout",
     "output_type": "stream",
     "text": [
      "Executing my_task\n",
      "Executing my_task\n",
      "8\n"
     ]
    },
    {
     "name": "stderr",
     "output_type": "stream",
     "text": [
      "/tmp/ipykernel_1305/371001273.py:21: DeprecationWarning: activeCount() is deprecated, use active_count() instead\n",
      "  print(threading.activeCount())\n"
     ]
    }
   ],
   "source": [
    "#2\n",
    "'''The threading module in Python is used to handle threads and provides a high-level interface for creating, managing, and synchronizing threads\n",
    "in a Python program. It offers several functions and methods to work with threads effectively. Here are the explanations and uses of the following\n",
    "functions in the threading module:\n",
    "\n",
    "activeCount(): This function returns the number of currently active threads in the program.\n",
    "In the example, two threads are created and started. When activeCount() is called, it returns the total count of active threads, which includes\n",
    "the main thread and the two threads created using threading.Thread.\n",
    "'''\n",
    "import threading\n",
    "\n",
    "def my_task():\n",
    "    print(\"Executing my_task\")\n",
    "\n",
    "thread1 = threading.Thread(target=my_task)\n",
    "thread2 = threading.Thread(target=my_task)\n",
    "\n",
    "thread1.start()\n",
    "thread2.start()\n",
    "\n",
    "print(threading.activeCount())  "
   ]
  },
  {
   "cell_type": "code",
   "execution_count": 2,
   "id": "835333d2-3a1d-4bb1-8748-634ac1b1a337",
   "metadata": {},
   "outputs": [
    {
     "name": "stdout",
     "output_type": "stream",
     "text": [
      "Executing my_task in thread: Thread-7 (my_task)\n"
     ]
    },
    {
     "name": "stderr",
     "output_type": "stream",
     "text": [
      "/tmp/ipykernel_1305/306488934.py:9: DeprecationWarning: currentThread() is deprecated, use current_thread() instead\n",
      "  current_thread = threading.currentThread()\n"
     ]
    }
   ],
   "source": [
    "'''currentThread(): This function returns the currently executing thread object.\n",
    "In the example, currentThread() is called within the my_task function to retrieve the thread object representing the currently executing thread. \n",
    "The name of the current thread is printed using current_thread.name\n",
    "Example:\n",
    "'''\n",
    "import threading\n",
    "\n",
    "def my_task():\n",
    "    current_thread = threading.currentThread()\n",
    "    print(\"Executing my_task in thread:\", current_thread.name)\n",
    "\n",
    "thread = threading.Thread(target=my_task)\n",
    "thread.start()\n",
    "thread.join()\n"
   ]
  },
  {
   "cell_type": "code",
   "execution_count": 3,
   "id": "a08e3c2a-1a21-4860-93f5-60a820f4d149",
   "metadata": {},
   "outputs": [
    {
     "name": "stdout",
     "output_type": "stream",
     "text": [
      "Executing my_task\n",
      "Executing my_task\n",
      "Active threads:\n",
      "MainThread\n",
      "IOPub\n",
      "Heartbeat\n",
      "Thread-3 (_watch_pipe_fd)\n",
      "Thread-4 (_watch_pipe_fd)\n",
      "Control\n",
      "IPythonHistorySavingThread\n",
      "Thread-2\n"
     ]
    }
   ],
   "source": [
    "'''enumerate(): This function returns a list of all currently active Thread objects.\n",
    "\n",
    "In the example, enumerate() is used to obtain a list of all active Thread objects. The list is then iterated to print the name of each active \n",
    "thread\n",
    "Example:\n",
    "'''\n",
    "import threading\n",
    "\n",
    "def my_task():\n",
    "    print(\"Executing my_task\")\n",
    "\n",
    "thread1 = threading.Thread(target=my_task)\n",
    "thread2 = threading.Thread(target=my_task)\n",
    "\n",
    "thread1.start()\n",
    "thread2.start()\n",
    "\n",
    "thread_list = threading.enumerate()\n",
    "print(\"Active threads:\")\n",
    "for thread in thread_list:\n",
    "    print(thread.name)\n"
   ]
  },
  {
   "cell_type": "code",
   "execution_count": 4,
   "id": "3a5d6a97-656c-44cf-b1f0-18a80f355fcd",
   "metadata": {},
   "outputs": [
    {
     "data": {
      "text/plain": [
       "\"\\nCertainly! Here's an explanation of each of the functions:\\n\\n1. `run()`: This function is used to define the entry point for the thread's execution. It contains the code that will be executed when the thread\\nstarts running. You need to override this function when creating a new thread by subclassing the `Thread` class in Python's threading module.\\n\\n2. `start()`: This function is used to start the execution of a thread. When you call the `start()` method on a `Thread` object, it initializes the \\nthread and invokes the `run()` method in a separate thread of control. It allows multiple threads to execute concurrently.\\n\\n3. `join()`: This function is used to wait for a thread to complete its execution. When you call the `join()` method on a `Thread` object, the \\ncalling thread will pause and wait until the target thread finishes its execution. It's often used to ensure that the main thread waits for all\\nother threads to complete before terminating the program.\\n\\n4. `isAlive()`: This function is used to check if a thread is currently running or active. When you call the `isAlive()` method on a `Thread` object,\\nit returns `True` if the thread is still running, and `False` otherwise. It's useful to determine if a thread has completed its execution or if it's \\nstill running.\\n\\nThese functions are commonly used in multithreading scenarios to manage the execution and synchronization of multiple threads in a program.\""
      ]
     },
     "execution_count": 4,
     "metadata": {},
     "output_type": "execute_result"
    }
   ],
   "source": [
    "#3\n",
    "'''\n",
    "Certainly! Here's an explanation of each of the functions:\n",
    "\n",
    "1. `run()`: This function is used to define the entry point for the thread's execution. It contains the code that will be executed when the thread\n",
    "starts running. You need to override this function when creating a new thread by subclassing the `Thread` class in Python's threading module.\n",
    "\n",
    "2. `start()`: This function is used to start the execution of a thread. When you call the `start()` method on a `Thread` object, it initializes the \n",
    "thread and invokes the `run()` method in a separate thread of control. It allows multiple threads to execute concurrently.\n",
    "\n",
    "3. `join()`: This function is used to wait for a thread to complete its execution. When you call the `join()` method on a `Thread` object, the \n",
    "calling thread will pause and wait until the target thread finishes its execution. It's often used to ensure that the main thread waits for all\n",
    "other threads to complete before terminating the program.\n",
    "\n",
    "4. `isAlive()`: This function is used to check if a thread is currently running or active. When you call the `isAlive()` method on a `Thread` object,\n",
    "it returns `True` if the thread is still running, and `False` otherwise. It's useful to determine if a thread has completed its execution or if it's \n",
    "still running.\n",
    "\n",
    "These functions are commonly used in multithreading scenarios to manage the execution and synchronization of multiple threads in a program.'''"
   ]
  },
  {
   "cell_type": "code",
   "execution_count": 5,
   "id": "b03adb5f-7d21-4bda-ba62-0c1b3d23da00",
   "metadata": {},
   "outputs": [
    {
     "name": "stdout",
     "output_type": "stream",
     "text": [
      "Square of 1 is 1\n",
      "Square of 2 is 4\n",
      "Square of 3 is 9\n",
      "Square of 4 is 16\n",
      "Square of 5 is 25\n",
      "Square of 6 is 36\n",
      "Square of 7 is 49\n",
      "Square of 8 is 64\n",
      "Square of 9 is 81\n",
      "Square of 10 is 100\n",
      "Cube of 1 is 1\n",
      "Cube of 2 is 8\n",
      "Cube of 3 is 27\n",
      "Cube of 4 is 64\n",
      "Cube of 5 is 125\n",
      "Cube of 6 is 216\n",
      "Cube of 7 is 343\n",
      "Cube of 8 is 512\n",
      "Cube of 9 is 729\n",
      "Cube of 10 is 1000\n"
     ]
    }
   ],
   "source": [
    "#4\n",
    "import threading\n",
    "\n",
    "def print_squares():\n",
    "    for i in range(1, 11):\n",
    "        print(f\"Square of {i} is {i ** 2}\")\n",
    "\n",
    "def print_cubes():\n",
    "    for i in range(1, 11):\n",
    "        print(f\"Cube of {i} is {i ** 3}\")\n",
    "\n",
    "# Create the first thread for printing squares\n",
    "thread1 = threading.Thread(target=print_squares)\n",
    "\n",
    "# Create the second thread for printing cubes\n",
    "thread2 = threading.Thread(target=print_cubes)\n",
    "\n",
    "# Start both threads\n",
    "thread1.start()\n",
    "thread2.start()\n",
    "\n",
    "# Wait for both threads to finish\n",
    "thread1.join()\n",
    "thread2.join()\n"
   ]
  },
  {
   "cell_type": "code",
   "execution_count": 1,
   "id": "43e944fc-ed66-4efa-936f-88eb06af6d28",
   "metadata": {},
   "outputs": [
    {
     "ename": "NameError",
     "evalue": "name 'cvgbh' is not defined",
     "output_type": "error",
     "traceback": [
      "\u001b[0;31m---------------------------------------------------------------------------\u001b[0m",
      "\u001b[0;31mNameError\u001b[0m                                 Traceback (most recent call last)",
      "Cell \u001b[0;32mIn[1], line 1\u001b[0m\n\u001b[0;32m----> 1\u001b[0m \u001b[43mcvgbh\u001b[49m\n",
      "\u001b[0;31mNameError\u001b[0m: name 'cvgbh' is not defined"
     ]
    }
   ],
   "source": [
    "#5\n",
    "'''Multithreading, the concurrent execution of multiple threads within a single program, offers several advantages and disadvantages. Here\n",
    "are some of them:\n",
    "\n",
    "Advantages of Multithreading:\n",
    "\n",
    "1. Increased Responsiveness: Multithreading allows programs to remain responsive even when performing lengthy or resource-intensive tasks.\n",
    "By dividing work among multiple threads, a program can continue to respond to user input or perform other tasks while the main thread is\n",
    "occupied.\n",
    "\n",
    "2. Improved Performance: Multithreading can improve overall system performance by utilizing multiple CPU cores effectively. When multiple \n",
    "threads run concurrently, they can execute tasks in parallel, leading to faster completion times for computationally intensive operations.\n",
    "\n",
    "3. Resource Sharing: Threads within the same process share the same memory space, which enables efficient sharing of data and resources.\n",
    "This eliminates the need for complex inter-process communication mechanisms and can lead to better resource utilization.\n",
    "\n",
    "4. Simplified Design: Multithreading can simplify the design and implementation of complex applications. By decomposing a program into \n",
    "smaller, independent threads, each responsible for a specific task, developers can create modular and maintainable code.\n",
    "\n",
    "Disadvantages of Multithreading:\n",
    "\n",
    "1. Synchronization and Coordination: When multiple threads access shared data simultaneously, it can lead to synchronization issues. \n",
    "Proper synchronization mechanisms, such as locks or semaphores, must be employed to prevent data races and ensure data consistency. \n",
    "Managing synchronization can add complexity to the code and introduce potential bugs.\n",
    "\n",
    "2. Increased Complexity: Multithreaded programming introduces additional complexities compared to single-threaded programming. Developers\n",
    "need to consider thread safety, shared resource management, and potential race conditions. Debugging and troubleshooting multithreaded \n",
    "applications can also be more challenging.\n",
    "\n",
    "3. Overhead: Multithreading comes with some overhead. Creating and managing threads, switching between them, and coordinating their \n",
    "execution require additional system resources and can impact overall performance. In some cases, the overhead of thread creation and \n",
    "synchronization may outweigh the benefits gained from parallel execution.\n",
    "\n",
    "4. Difficult to Debug: Debugging multithreaded programs can be complex and time-consuming. Race conditions, deadlocks, and other \n",
    "concurrency-related issues may only occur intermittently and are often challenging to reproduce and diagnose. This can make the debugging \n",
    "process more difficult and time-consuming.\n",
    "\n",
    "It's important to carefully analyze the requirements and characteristics of an application before deciding to use multithreading. While \n",
    "it offers several advantages, it also introduces complexities that need to be managed effectively to harness its benefits successfully.\n",
    "'''"
   ]
  },
  {
   "cell_type": "code",
   "execution_count": null,
   "id": "5b2d7afd-3827-4d25-a201-066eb845bce7",
   "metadata": {},
   "outputs": [],
   "source": []
  }
 ],
 "metadata": {
  "kernelspec": {
   "display_name": "Python 3 (ipykernel)",
   "language": "python",
   "name": "python3"
  },
  "language_info": {
   "codemirror_mode": {
    "name": "ipython",
    "version": 3
   },
   "file_extension": ".py",
   "mimetype": "text/x-python",
   "name": "python",
   "nbconvert_exporter": "python",
   "pygments_lexer": "ipython3",
   "version": "3.10.8"
  }
 },
 "nbformat": 4,
 "nbformat_minor": 5
}
