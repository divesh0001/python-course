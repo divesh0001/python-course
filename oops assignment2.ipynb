{
 "cells": [
  {
   "cell_type": "code",
   "execution_count": 1,
   "id": "9ef38c58-4ca6-4a86-ba01-2f06235d0489",
   "metadata": {},
   "outputs": [
    {
     "name": "stdout",
     "output_type": "stream",
     "text": [
      "15\n",
      "16\n",
      "50.24\n",
      "25.12\n"
     ]
    },
    {
     "data": {
      "text/plain": [
       "'In this example, we have an abstract class called Shape, which defines the common behaviors expected from shapes: area() and perimeter().\\nThese methods are marked as abstract using the @abstractmethod decorator, indicating that the class itself is incomplete and cannot be instantiated.\\n\\nConcrete classes, such as Rectangle and Circle, derive from the Shape class and provide their own implementations for the abstract methods. \\nThey define how to calculate the area and perimeter for their respective shapes.\\n\\nBy using abstraction, we can create a generalized structure (Shape) that captures the common behaviors of shapes without specifying the exact\\nimplementation. This allows us to treat objects of different concrete classes (Rectangle and Circle) as instances of the abstract class (Shape).\\nWe can call the common methods area() and perimeter() on these objects, regardless of their specific implementation details.'"
      ]
     },
     "execution_count": 1,
     "metadata": {},
     "output_type": "execute_result"
    }
   ],
   "source": [
    "#1\n",
    "'''Abstraction is a key concept in object-oriented programming (OOP) that involves representing complex real-world entities in a simplified manner\n",
    "by focusing on the essential features and ignoring unnecessary details. It allows programmers to create abstract classes or interfaces that define \n",
    "the common characteristics and behaviors of a group of objects without specifying their exact implementation.\n",
    "\n",
    "\n",
    "Abstraction helps manage complexity, improve code readability, and promote code reuse. It allows for the creation of generic structures and\n",
    "behaviors that can be extended and implemented by concrete classes based on specific requirements.\n",
    "\n",
    "Let's consider an example to understand abstraction in OOP:\n",
    "'''\n",
    "from abc import ABC, abstractmethod\n",
    "\n",
    "class Shape(ABC):\n",
    "    @abstractmethod\n",
    "    def area(self):\n",
    "        pass\n",
    "\n",
    "    @abstractmethod\n",
    "    def perimeter(self):\n",
    "        pass\n",
    "\n",
    "class Rectangle(Shape):\n",
    "    def __init__(self, length, width):\n",
    "        self.length = length\n",
    "        self.width = width\n",
    "\n",
    "    def area(self):\n",
    "        return self.length * self.width\n",
    "\n",
    "    def perimeter(self):\n",
    "        return 2 * (self.length + self.width)\n",
    "\n",
    "class Circle(Shape):\n",
    "    def __init__(self, radius):\n",
    "        self.radius = radius\n",
    "\n",
    "    def area(self):\n",
    "        return 3.14 * self.radius * self.radius\n",
    "\n",
    "    def perimeter(self):\n",
    "        return 2 * 3.14 * self.radius\n",
    "\n",
    "# Creating objects of concrete classes\n",
    "rectangle = Rectangle(5, 3)\n",
    "circle = Circle(4)\n",
    "\n",
    "print(rectangle.area())    # Output: 15\n",
    "print(rectangle.perimeter())   # Output: 16\n",
    "print(circle.area())       # Output: 50.24\n",
    "print(circle.perimeter())  # Output: 25.12\n",
    "'''In this example, we have an abstract class called Shape, which defines the common behaviors expected from shapes: area() and perimeter().\n",
    "These methods are marked as abstract using the @abstractmethod decorator, indicating that the class itself is incomplete and cannot be instantiated.\n",
    "\n",
    "Concrete classes, such as Rectangle and Circle, derive from the Shape class and provide their own implementations for the abstract methods. \n",
    "They define how to calculate the area and perimeter for their respective shapes.\n",
    "\n",
    "By using abstraction, we can create a generalized structure (Shape) that captures the common behaviors of shapes without specifying the exact\n",
    "implementation. This allows us to treat objects of different concrete classes (Rectangle and Circle) as instances of the abstract class (Shape).\n",
    "We can call the common methods area() and perimeter() on these objects, regardless of their specific implementation details.'''\n"
   ]
  },
  {
   "cell_type": "code",
   "execution_count": 4,
   "id": "9b9980e7-4e35-4737-bc99-d9c5e9906244",
   "metadata": {},
   "outputs": [
    {
     "name": "stdout",
     "output_type": "stream",
     "text": [
      "78.5\n",
      "24\n"
     ]
    }
   ],
   "source": [
    "#2\n",
    "'''Abstraction and encapsulation are both important concepts in object-oriented programming (OOP), but they serve different purposes:\n",
    "\n",
    "Abstraction:\n",
    "Abstraction focuses on representing complex entities in a simplified manner by emphasizing essential features and hiding unnecessary details.\n",
    "It allows you to create abstract classes or interfaces that define common behaviors without specifying implementation. Abstraction helps manage\n",
    "complexity, improve code readability, and promote code reuse.\n",
    "\n",
    "Example of Abstraction:In this example, the abstract class `Shape` defines the common behavior of shapes by declaring the `area()` method. The concrete classes `Circle` \n",
    "and `Rectangle` inherit from the `Shape` class and provide their own implementations for the `area()` method. The abstraction allows us to treat \n",
    "objects of different concrete classes uniformly by accessing the common behavior defined in the abstract class.\n",
    "\n",
    "\n",
    "'''\n",
    "from abc import ABC, abstractmethod\n",
    "\n",
    "class Shape(ABC):\n",
    "    @abstractmethod\n",
    "    def area(self):\n",
    "        pass\n",
    "\n",
    "class Circle(Shape):\n",
    "    def __init__(self, radius):\n",
    "        self.radius = radius\n",
    "\n",
    "    def area(self):\n",
    "        return 3.14 * self.radius * self.radius\n",
    "\n",
    "class Rectangle(Shape):\n",
    "    def __init__(self, length, width):\n",
    "        self.length = length\n",
    "        self.width = width\n",
    "\n",
    "    def area(self):\n",
    "        return self.length * self.width\n",
    "\n",
    "# Creating objects of concrete classes\n",
    "circle = Circle(5)\n",
    "rectangle = Rectangle(4, 6)\n",
    "\n",
    "print(circle.area())     # Output: 78.5\n",
    "print(rectangle.area())  # Output: 24\n",
    "\n",
    "\n"
   ]
  },
  {
   "cell_type": "code",
   "execution_count": 6,
   "id": "6bc31d59-8bb1-47b5-af0a-e6e8e89f4731",
   "metadata": {},
   "outputs": [
    {
     "name": "stdout",
     "output_type": "stream",
     "text": [
      "5000\n",
      "6000\n",
      "6000\n"
     ]
    },
    {
     "data": {
      "text/plain": [
       "'In this example, the `Employee` class encapsulates the attribute `__salary` within the class. Access to the salary attribute is provided through\\ngetter and setter methods (`get_salary()` and `set_salary()`) to control the modification and retrieval of the encapsulated data. The encapsulation \\nprotects the attribute from direct access, ensuring that its value is validated and controlled by the defined methods.\\n\\nIn summary, abstraction focuses on simplifying complex entities by defining common behaviors in abstract classes or interfaces, while encapsulation \\nbundles data and methods together within a class, providing data protection and access control. Both concepts contribute to code organization,\\nmodularity, and maintainability in object-oriented programming.'"
      ]
     },
     "execution_count": 6,
     "metadata": {},
     "output_type": "execute_result"
    }
   ],
   "source": [
    "'''\n",
    "Encapsulation:\n",
    "Encapsulation, on the other hand, focuses on bundling data (attributes) and methods (functions) together within a class, such that the data is \n",
    "hidden and can only be accessed and manipulated through the defined methods. Encapsulation provides data protection, code modularity, and helps maintain the integrity of an object's state.\n",
    "\n",
    "Example of Encapsulation:\n",
    "'''\n",
    "class Employee:\n",
    "    def __init__(self, name, salary):\n",
    "        self.name = name\n",
    "        self.__salary = salary  # Encapsulated attribute\n",
    "\n",
    "    def get_salary(self):\n",
    "        return self.__salary\n",
    "\n",
    "    def set_salary(self, new_salary):\n",
    "        if new_salary > 0:\n",
    "            self.__salary = new_salary\n",
    "\n",
    "# Creating an object of the Employee class\n",
    "emp = Employee(\"John Doe\", 5000)\n",
    "\n",
    "print(emp.get_salary())  # Output: 5000\n",
    "\n",
    "emp.set_salary(6000)\n",
    "print(emp.get_salary())  # Output: 6000\n",
    "\n",
    "emp.__salary = -1000  # Attribute not directly accessible\n",
    "\n",
    "print(emp.get_salary())  # Output: 6000\n",
    "\n",
    "\n",
    "'''In this example, the `Employee` class encapsulates the attribute `__salary` within the class. Access to the salary attribute is provided through\n",
    "getter and setter methods (`get_salary()` and `set_salary()`) to control the modification and retrieval of the encapsulated data. The encapsulation \n",
    "protects the attribute from direct access, ensuring that its value is validated and controlled by the defined methods.\n",
    "\n",
    "In summary, abstraction focuses on simplifying complex entities by defining common behaviors in abstract classes or interfaces, while encapsulation \n",
    "bundles data and methods together within a class, providing data protection and access control. Both concepts contribute to code organization,\n",
    "modularity, and maintainability in object-oriented programming.'''"
   ]
  },
  {
   "cell_type": "code",
   "execution_count": 7,
   "id": "fa16d9fb-6889-4fa2-ae48-85d69b9169a2",
   "metadata": {},
   "outputs": [
    {
     "data": {
      "text/plain": [
       "'The abc module in Python stands for \"Abstract Base Classes.\" It provides a mechanism for defining abstract base classes in Python. Abstract base\\nclasses are classes that cannot be instantiated directly but serve as a blueprint for other classes to inherit from. They define a common interface\\nand behavior that derived classes should implement.\\n\\nThe abc module provides the ABC class as the base class for creating abstract base classes. It also provides the abstractmethod decorator, which\\nallows the definition of abstract methods within abstract base classes. An abstract method is a method declaration without an implementation, and\\nit must be implemented by any concrete class that inherits from the abstract base class.\\n\\nThe abc module is used for the following purposes:\\n\\nDefining abstract base classes: The abc module allows you to define abstract base classes by subclassing the ABC class. Abstract base classes serve\\nas a contract or interface that derived classes should adhere to. They define the expected methods and behaviors that the derived classes must \\nimplement.\\n\\nEnforcing method implementation: By using the abstractmethod decorator, the abc module ensures that derived classes provide implementations for the\\ndeclared abstract methods. If a derived class fails to implement an abstract method, it will raise an error when instantiated.\\n\\nPolymorphism and code clarity: Abstract base classes facilitate polymorphism by allowing objects of different concrete classes to be treated uniformly\\nthrough their shared abstract base class. This promotes code clarity, as it provides a clear indication of the expected interface and behavior for \\nderived classes.'"
      ]
     },
     "execution_count": 7,
     "metadata": {},
     "output_type": "execute_result"
    }
   ],
   "source": [
    "#3\n",
    "'''The abc module in Python stands for \"Abstract Base Classes.\" It provides a mechanism for defining abstract base classes in Python. Abstract base\n",
    "classes are classes that cannot be instantiated directly but serve as a blueprint for other classes to inherit from. They define a common interface\n",
    "and behavior that derived classes should implement.\n",
    "\n",
    "The abc module provides the ABC class as the base class for creating abstract base classes. It also provides the abstractmethod decorator, which\n",
    "allows the definition of abstract methods within abstract base classes. An abstract method is a method declaration without an implementation, and\n",
    "it must be implemented by any concrete class that inherits from the abstract base class.\n",
    "\n",
    "The abc module is used for the following purposes:\n",
    "\n",
    "Defining abstract base classes: The abc module allows you to define abstract base classes by subclassing the ABC class. Abstract base classes serve\n",
    "as a contract or interface that derived classes should adhere to. They define the expected methods and behaviors that the derived classes must \n",
    "implement.\n",
    "\n",
    "Enforcing method implementation: By using the abstractmethod decorator, the abc module ensures that derived classes provide implementations for the\n",
    "declared abstract methods. If a derived class fails to implement an abstract method, it will raise an error when instantiated.\n",
    "\n",
    "Polymorphism and code clarity: Abstract base classes facilitate polymorphism by allowing objects of different concrete classes to be treated uniformly\n",
    "through their shared abstract base class. This promotes code clarity, as it provides a clear indication of the expected interface and behavior for \n",
    "derived classes.'''"
   ]
  },
  {
   "cell_type": "code",
   "execution_count": null,
   "id": "0ec1ed83-11ca-40e2-b1b0-2d25e4616ab7",
   "metadata": {},
   "outputs": [],
   "source": [
    "#4\n",
    "'''In Python, we can achieve data abstraction through the use of classes, access modifiers, and getter and setter methods. Data abstraction involves\n",
    "hiding the internal details of an object and exposing only the essential information or interface to the outside world.\n",
    "\n",
    "Here's how we can achieve data abstraction in Python:\n",
    "\n",
    "Class Definition: Define a class that encapsulates the data and methods related to the object. This class acts as a blueprint for creating instances \n",
    "of objects.\n",
    "\n",
    "Access Modifiers: Use access modifiers to control the visibility and accessibility of data members (attributes) and methods within the class. In \n",
    "Python, conventionally, a single underscore _ prefix is used to indicate a protected member and a double underscore __ prefix is used to indicate \n",
    "a private member.\n",
    "\n",
    "Getter and Setter Methods: Provide getter and setter methods to access and modify the internal data members of the class. These methods allow \n",
    "controlled access to the encapsulated data, ensuring validation, and providing a layer of abstraction.'''"
   ]
  }
 ],
 "metadata": {
  "kernelspec": {
   "display_name": "Python 3 (ipykernel)",
   "language": "python",
   "name": "python3"
  },
  "language_info": {
   "codemirror_mode": {
    "name": "ipython",
    "version": 3
   },
   "file_extension": ".py",
   "mimetype": "text/x-python",
   "name": "python",
   "nbconvert_exporter": "python",
   "pygments_lexer": "ipython3",
   "version": "3.10.8"
  }
 },
 "nbformat": 4,
 "nbformat_minor": 5
}
