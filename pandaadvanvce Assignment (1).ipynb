{
 "cells": [
  {
   "cell_type": "code",
   "execution_count": 30,
   "id": "3213c584-4c84-4e09-8a6d-aadb070ae669",
   "metadata": {},
   "outputs": [],
   "source": [
    "#1.DataFrame(): Creates a DataFrame from various data sources.\n",
    "import pandas as pd\n",
    "\n",
    "data = {'Name': ['Alice', 'Bob', 'Claire'],\n",
    "        'Age': [25, 30, 27]}\n",
    "df = pd.DataFrame(data)\n"
   ]
  },
  {
   "cell_type": "code",
   "execution_count": 31,
   "id": "d761198e-a20c-4472-9993-a9fde145d2ca",
   "metadata": {},
   "outputs": [
    {
     "name": "stdout",
     "output_type": "stream",
     "text": [
      "     Name  Age\n",
      "0   Alice   25\n",
      "1     Bob   30\n",
      "2  Claire   27\n"
     ]
    }
   ],
   "source": [
    "#2.head(): Displays the first few rows of a DataFrame.\n",
    "print(df.head())\n"
   ]
  },
  {
   "cell_type": "code",
   "execution_count": 32,
   "id": "05c75bb1-a3ea-4109-9985-abafba00ba13",
   "metadata": {},
   "outputs": [
    {
     "name": "stdout",
     "output_type": "stream",
     "text": [
      "Age\n",
      "25    1\n",
      "27    1\n",
      "30    1\n",
      "Name: Name, dtype: int64\n"
     ]
    }
   ],
   "source": [
    "#3.groupby(): Groups data and performs aggregate operations.\n",
    "grouped = df.groupby('Age')['Name'].count()\n",
    "print(grouped)\n"
   ]
  },
  {
   "cell_type": "code",
   "execution_count": 33,
   "id": "fb19446d-61d6-4457-8c6a-d99151c66d7a",
   "metadata": {},
   "outputs": [
    {
     "name": "stdout",
     "output_type": "stream",
     "text": [
      "     Name  Age\n",
      "1     Bob   30\n",
      "2  Claire   27\n",
      "0   Alice   25\n"
     ]
    }
   ],
   "source": [
    "#4.sort_values(): Sorts DataFrame rows based on one or more columns\n",
    "sorted_df = df.sort_values(by='Age', ascending=False)\n",
    "print(sorted_df)\n"
   ]
  },
  {
   "cell_type": "code",
   "execution_count": 34,
   "id": "02151033-e65d-4c43-809b-7d97727b8687",
   "metadata": {},
   "outputs": [
    {
     "name": "stdout",
     "output_type": "stream",
     "text": [
      "        Age\n",
      "Name       \n",
      "Alice    25\n",
      "Bob      30\n",
      "Claire   27\n"
     ]
    }
   ],
   "source": [
    "#5.pivot_table(): Creates a pivot table from a DataFrame.\n",
    "pivot_table = df.pivot_table(values='Age', index='Name', aggfunc='mean')\n",
    "print(pivot_table)\n"
   ]
  },
  {
   "cell_type": "code",
   "execution_count": 35,
   "id": "fec6dca6-e48b-4001-b4ab-ae9f8a1d6a19",
   "metadata": {},
   "outputs": [
    {
     "name": "stdout",
     "output_type": "stream",
     "text": [
      "    A   B   C\n",
      "1  10  40  70\n",
      "3  20  50  80\n",
      "5  30  60  90\n"
     ]
    }
   ],
   "source": [
    "#2.\n",
    "import pandas as pd\n",
    "\n",
    "def reindex_with_custom_increment(df):\n",
    "    new_index = range(1, 2 * len(df) + 1, 2)  \n",
    "    df_reindexed = df.set_index(pd.Index(new_index))  \n",
    "    return df_reindexed\n",
    "\n",
    "data = {'A': [10, 20, 30],\n",
    "        'B': [40, 50, 60],\n",
    "        'C': [70, 80, 90]}\n",
    "\n",
    "df = pd.DataFrame(data)\n",
    "\n",
    "reindexed_df = reindex_with_custom_increment(df)\n",
    "print(reindexed_df)\n"
   ]
  },
  {
   "cell_type": "code",
   "execution_count": 36,
   "id": "63bd4a21-1728-4b3e-8f5a-5fec8c0dbc98",
   "metadata": {},
   "outputs": [
    {
     "name": "stdout",
     "output_type": "stream",
     "text": [
      "Sum of the first three values: 60\n"
     ]
    }
   ],
   "source": [
    "#3.\n",
    "import pandas as pd\n",
    "\n",
    "def calculate_sum_of_first_three(df):\n",
    "    values_column = df['Values']\n",
    "    sum_first_three = sum(values_column[:3])\n",
    "    print(\"Sum of the first three values:\", sum_first_three)\n",
    "\n",
    "data = {'Values': [10, 20, 30, 40, 50]}\n",
    "df = pd.DataFrame(data)\n",
    "\n",
    "calculate_sum_of_first_three(df)\n"
   ]
  },
  {
   "cell_type": "code",
   "execution_count": 37,
   "id": "47703522-e530-45fa-b480-95ad0217bf39",
   "metadata": {},
   "outputs": [
    {
     "name": "stdout",
     "output_type": "stream",
     "text": [
      "              Text  Word_Count\n",
      "0      Hello world           2\n",
      "1  Python is great           3\n",
      "2    Data analysis           2\n"
     ]
    }
   ],
   "source": [
    "#4.\n",
    "import pandas as pd\n",
    "\n",
    "def add_word_count_column(df):\n",
    "    df['Word_Count'] = df['Text'].apply(lambda x: len(x.split()))\n",
    "    return df\n",
    "\n",
    "data = {'Text': [\"Hello world\", \"Python is great\", \"Data analysis\"]}\n",
    "df = pd.DataFrame(data)\n",
    "\n",
    "df_with_word_count = add_word_count_column(df)\n",
    "print(df_with_word_count)\n"
   ]
  },
  {
   "cell_type": "markdown",
   "id": "9f9bafbf-bae7-49b5-a886-45c2ae94ba3e",
   "metadata": {},
   "source": [
    "#5.DataFrame.size: Returns the total number of elements (cells) in the DataFrame.\n",
    "\n",
    "DataFrame.shape: Returns a tuple representing the dimensions (rows and columns) of the DataFrame.\n",
    "\n",
    "In other words, DataFrame.size gives you the count of cells in the DataFrame, while DataFrame.shape gives you the number of rows and columns in the form of a tuple."
   ]
  },
  {
   "cell_type": "markdown",
   "id": "b1bbb8c6-df3d-4afc-9903-b7b60e33b71a",
   "metadata": {},
   "source": [
    "#6.\n",
    "import pandas as pd\n",
    "\n",
    "df = pd.read_excel('filename.xlsx')\n",
    "\n",
    "print(df)\n"
   ]
  },
  {
   "cell_type": "code",
   "execution_count": 38,
   "id": "53d39b0f-3136-408e-9498-25cb81d47a6d",
   "metadata": {},
   "outputs": [
    {
     "name": "stdout",
     "output_type": "stream",
     "text": [
      "                    Email    Username\n",
      "0    john.doe@example.com    john.doe\n",
      "1  jane.smith@example.com  jane.smith\n",
      "2     user123@example.com     user123\n"
     ]
    }
   ],
   "source": [
    "#7.\n",
    "import pandas as pd\n",
    "\n",
    "def extract_username(df):\n",
    "    df['Username'] = df['Email'].apply(lambda email: email.split('@')[0])\n",
    "    return df\n",
    "\n",
    "data = {'Email': ['john.doe@example.com', 'jane.smith@example.com', 'user123@example.com']}\n",
    "df = pd.DataFrame(data)\n",
    "\n",
    "df_with_username = extract_username(df)\n",
    "print(df_with_username)\n"
   ]
  },
  {
   "cell_type": "code",
   "execution_count": 39,
   "id": "56c7b016-5997-45ae-ae7e-c76f5f49c319",
   "metadata": {},
   "outputs": [
    {
     "name": "stdout",
     "output_type": "stream",
     "text": [
      "   A  B  C\n",
      "1  8  2  7\n",
      "2  6  9  4\n",
      "4  9  1  2\n"
     ]
    }
   ],
   "source": [
    "#8.\n",
    "import pandas as pd\n",
    "\n",
    "def select_rows(df):\n",
    "    selected_rows = df[(df['A'] > 5) & (df['B'] < 10)]\n",
    "    return selected_rows\n",
    "data = {'A': [3, 8, 6, 2, 9],\n",
    "        'B': [5, 2, 9, 3, 1],\n",
    "        'C': [1, 7, 4, 5, 2]}\n",
    "df = pd.DataFrame(data)\n",
    "selected_df = select_rows(df)\n",
    "print(selected_df)\n"
   ]
  },
  {
   "cell_type": "code",
   "execution_count": 40,
   "id": "37b88973-7c42-4bae-b8e6-bf6d18f02de6",
   "metadata": {},
   "outputs": [
    {
     "name": "stdout",
     "output_type": "stream",
     "text": [
      "Mean: 30.0\n",
      "Median: 30.0\n",
      "Standard Deviation: 15.811388300841896\n"
     ]
    }
   ],
   "source": [
    "#9.\n",
    "import pandas as pd\n",
    "\n",
    "def calculate_statistics(df):\n",
    "    mean = df['Values'].mean()\n",
    "    median = df['Values'].median()\n",
    "    std_dev = df['Values'].std()\n",
    "    return mean, median, std_dev\n",
    "\n",
    "data = {'Values': [10, 20, 30, 40, 50]}\n",
    "df = pd.DataFrame(data)\n",
    "\n",
    "mean, median, std_dev = calculate_statistics(df)\n",
    "\n",
    "print(\"Mean:\", mean)\n",
    "print(\"Median:\", median)\n",
    "print(\"Standard Deviation:\", std_dev)\n"
   ]
  },
  {
   "cell_type": "code",
   "execution_count": 41,
   "id": "3126d046-acb4-4c6e-ad1e-0190379e8e0f",
   "metadata": {},
   "outputs": [
    {
     "name": "stdout",
     "output_type": "stream",
     "text": [
      "         Date  Sales  MovingAverage\n",
      "0  2023-01-01     10           10.0\n",
      "1  2023-01-02     20           15.0\n",
      "2  2023-01-03     30           20.0\n",
      "3  2023-01-04     40           25.0\n",
      "4  2023-01-05     50           30.0\n",
      "5  2023-01-06     60           35.0\n",
      "6  2023-01-07     70           40.0\n",
      "7  2023-01-08     80           50.0\n",
      "8  2023-01-09     90           60.0\n",
      "9  2023-01-10    100           70.0\n",
      "10 2023-01-11    110           80.0\n",
      "11 2023-01-12    120           90.0\n",
      "12 2023-01-13    130          100.0\n",
      "13 2023-01-14    140          110.0\n"
     ]
    }
   ],
   "source": [
    "#10.\n",
    "import pandas as pd\n",
    "\n",
    "def calculate_moving_average(df):\n",
    "    df['MovingAverage'] = df['Sales'].rolling(window=7, min_periods=1).mean()\n",
    "    return df\n",
    "\n",
    "data = {'Date': pd.date_range(start='2023-01-01', periods=14),\n",
    "        'Sales': [10, 20, 30, 40, 50, 60, 70, 80, 90, 100, 110, 120, 130, 140]}\n",
    "df = pd.DataFrame(data)\n",
    "\n",
    "df_with_moving_avg = calculate_moving_average(df)\n",
    "print(df_with_moving_avg)\n"
   ]
  },
  {
   "cell_type": "code",
   "execution_count": 42,
   "id": "4a4b189b-f790-4387-8379-93d5142128e5",
   "metadata": {},
   "outputs": [
    {
     "name": "stdout",
     "output_type": "stream",
     "text": [
      "        Date    Weekday\n",
      "0 2023-01-01     Sunday\n",
      "1 2023-01-02     Monday\n",
      "2 2023-01-03    Tuesday\n",
      "3 2023-01-04  Wednesday\n",
      "4 2023-01-05   Thursday\n"
     ]
    }
   ],
   "source": [
    "#11.\n",
    "import pandas as pd\n",
    "\n",
    "def add_weekday_column(df):\n",
    "    df['Weekday'] = df['Date'].dt.strftime('%A')\n",
    "    return df\n",
    "\n",
    "data = {'Date': pd.to_datetime(['2023-01-01', '2023-01-02', '2023-01-03', '2023-01-04', '2023-01-05'])}\n",
    "df = pd.DataFrame(data)\n",
    "\n",
    "df_with_weekday = add_weekday_column(df)\n",
    "print(df_with_weekday)\n"
   ]
  },
  {
   "cell_type": "code",
   "execution_count": 43,
   "id": "45cb8fcb-b0a8-497b-a52f-8b95d2eda718",
   "metadata": {},
   "outputs": [
    {
     "name": "stdout",
     "output_type": "stream",
     "text": [
      "        Date\n",
      "0 2023-01-15\n",
      "1 2023-01-25\n",
      "3 2023-01-10\n"
     ]
    }
   ],
   "source": [
    "#12.\n",
    "import pandas as pd\n",
    "\n",
    "def select_rows_in_date_range(df, start_date, end_date):\n",
    "    selected_rows = df[(df['Date'] >= start_date) & (df['Date'] <= end_date)]\n",
    "    return selected_rows\n",
    "\n",
    "data = {'Date': pd.to_datetime(['2023-01-15', '2023-01-25', '2023-02-05', '2023-01-10'])}\n",
    "df = pd.DataFrame(data)\n",
    "\n",
    "start_date = pd.to_datetime('2023-01-01')\n",
    "end_date = pd.to_datetime('2023-01-31')\n",
    "selected_df = select_rows_in_date_range(df, start_date, end_date)\n",
    "print(selected_df)\n",
    "\n"
   ]
  },
  {
   "cell_type": "code",
   "execution_count": 44,
   "id": "63461fa2-92da-43b7-8fb4-5ab9abeab73c",
   "metadata": {},
   "outputs": [],
   "source": [
    "#13.\n",
    "import pandas as pd\n"
   ]
  },
  {
   "cell_type": "code",
   "execution_count": 45,
   "id": "2123c4c1-908d-43ca-bda5-10c2e95bd7d5",
   "metadata": {},
   "outputs": [
    {
     "name": "stdout",
     "output_type": "stream",
     "text": [
      "finished\n"
     ]
    }
   ],
   "source": [
    "print(\"finished\")"
   ]
  },
  {
   "cell_type": "code",
   "execution_count": null,
   "id": "98dfabe3-a600-4411-be23-427439057655",
   "metadata": {},
   "outputs": [],
   "source": [
    "print(\"systumm\")"
   ]
  },
  {
   "cell_type": "code",
   "execution_count": null,
   "id": "d88bd04b-ad79-4267-950d-04131fdce6ca",
   "metadata": {},
   "outputs": [],
   "source": []
  }
 ],
 "metadata": {
  "kernelspec": {
   "display_name": "Python 3 (ipykernel)",
   "language": "python",
   "name": "python3"
  },
  "language_info": {
   "codemirror_mode": {
    "name": "ipython",
    "version": 3
   },
   "file_extension": ".py",
   "mimetype": "text/x-python",
   "name": "python",
   "nbconvert_exporter": "python",
   "pygments_lexer": "ipython3",
   "version": "3.10.8"
  }
 },
 "nbformat": 4,
 "nbformat_minor": 5
}
