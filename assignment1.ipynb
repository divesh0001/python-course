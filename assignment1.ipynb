{
 "cells": [
  {
   "cell_type": "code",
   "execution_count": 1,
   "id": "49a1704d-1fa5-4115-939a-dc42d849b4c9",
   "metadata": {},
   "outputs": [],
   "source": [
    "#1\n",
    "a=\"divesh\"\n",
    "b=[1,2,3,\"div\"]\n",
    "c=1.0\n",
    "d=(1,2,\"ishu\")\n"
   ]
  },
  {
   "cell_type": "code",
   "execution_count": 3,
   "id": "02b944d7-ddf5-4762-9951-058b987550a6",
   "metadata": {},
   "outputs": [],
   "source": [
    "#2\n",
    "#String\n",
    "#String\n",
    "#List\n",
    "#Integer"
   ]
  },
  {
   "cell_type": "code",
   "execution_count": 5,
   "id": "f9a5d9de-13dc-4b99-b8ab-490603f25dd5",
   "metadata": {},
   "outputs": [
    {
     "data": {
      "text/plain": [
       "1.5"
      ]
     },
     "execution_count": 5,
     "metadata": {},
     "output_type": "execute_result"
    }
   ],
   "source": [
    "#3\n",
    "#i '/' this operator is used to divide any number.example:\n",
    "3/2\n"
   ]
  },
  {
   "cell_type": "code",
   "execution_count": 6,
   "id": "fe9de41e-6c9b-4fc0-ac9c-ec7f05bd662c",
   "metadata": {},
   "outputs": [
    {
     "data": {
      "text/plain": [
       "1"
      ]
     },
     "execution_count": 6,
     "metadata": {},
     "output_type": "execute_result"
    }
   ],
   "source": [
    "#ii  '%' this operator is used to give remainder.example:\n",
    "3%2\n",
    "\n"
   ]
  },
  {
   "cell_type": "code",
   "execution_count": 7,
   "id": "3c57a1b2-61a3-41ff-aa74-aba381ce4af9",
   "metadata": {},
   "outputs": [
    {
     "data": {
      "text/plain": [
       "1"
      ]
     },
     "execution_count": 7,
     "metadata": {},
     "output_type": "execute_result"
    }
   ],
   "source": [
    "#iii //\" this operator is used to give integer division.example:\n",
    "3//2"
   ]
  },
  {
   "cell_type": "code",
   "execution_count": 8,
   "id": "717aa09e-2a98-43b3-ba34-f2e0ba37cde4",
   "metadata": {},
   "outputs": [
    {
     "data": {
      "text/plain": [
       "9"
      ]
     },
     "execution_count": 8,
     "metadata": {},
     "output_type": "execute_result"
    }
   ],
   "source": [
    "# '**' this operator is used to give power to any number.example:\n",
    "3**2"
   ]
  },
  {
   "cell_type": "code",
   "execution_count": 10,
   "id": "a246b434-e4ef-4ca1-803f-eb0d27919c2f",
   "metadata": {},
   "outputs": [
    {
     "name": "stdout",
     "output_type": "stream",
     "text": [
      "1\n",
      "<class 'int'>\n",
      "2\n",
      "<class 'int'>\n",
      "divesh\n",
      "<class 'str'>\n",
      "ishu\n",
      "<class 'str'>\n",
      "1.0\n",
      "<class 'float'>\n",
      "2.5\n",
      "<class 'float'>\n",
      "True\n",
      "<class 'bool'>\n",
      "False\n",
      "<class 'bool'>\n",
      "4\n",
      "<class 'int'>\n",
      "5\n",
      "<class 'int'>\n"
     ]
    }
   ],
   "source": [
    "#4\n",
    "l=[1,2,\"divesh\",\"ishu\",1.0,2.5,True,False,4,5]\n",
    "for i in l:\n",
    "    print(i)\n",
    "    print(type(i))"
   ]
  },
  {
   "cell_type": "code",
   "execution_count": 17,
   "id": "24004ad4-a2ef-4aa9-bead-1f8619835b41",
   "metadata": {},
   "outputs": [
    {
     "name": "stdin",
     "output_type": "stream",
     "text": [
      "Enter a number A 90\n",
      "Enter a number B 3\n"
     ]
    },
    {
     "name": "stdout",
     "output_type": "stream",
     "text": [
      "A is divisible by B and can be divided 2 times.\n"
     ]
    }
   ],
   "source": [
    "#5\n",
    "A=int(input(\"Enter a number A\"))\n",
    "B=int(input(\"Enter a number B\"))\n",
    "count = 0\n",
    "while A >= B:\n",
    "    if A % B == 0:\n",
    "        A /= B\n",
    "        count += 1\n",
    "    else:\n",
    "        break\n",
    "\n",
    "if count >= 1:\n",
    "    print(f\"A is divisible by B and can be divided {count} times.\")\n",
    "else:\n",
    "    print(\"A is not divisible by B.\")"
   ]
  },
  {
   "cell_type": "code",
   "execution_count": 18,
   "id": "3174060e-ff6b-4f41-8f6e-e8956a2c0c06",
   "metadata": {},
   "outputs": [
    {
     "name": "stdout",
     "output_type": "stream",
     "text": [
      "1\n",
      "Element is not divisible by 3\n",
      "2\n",
      "Element is not divisible by 3\n",
      "3\n",
      "Element is divible by 3\n",
      "4\n",
      "Element is not divisible by 3\n",
      "5\n",
      "Element is not divisible by 3\n",
      "6\n",
      "Element is divible by 3\n",
      "7\n",
      "Element is not divisible by 3\n",
      "8\n",
      "Element is not divisible by 3\n",
      "9\n",
      "Element is divible by 3\n",
      "10\n",
      "Element is not divisible by 3\n",
      "11\n",
      "Element is not divisible by 3\n",
      "12\n",
      "Element is divible by 3\n",
      "13\n",
      "Element is not divisible by 3\n",
      "14\n",
      "Element is not divisible by 3\n",
      "15\n",
      "Element is divible by 3\n",
      "16\n",
      "Element is not divisible by 3\n",
      "17\n",
      "Element is not divisible by 3\n",
      "18\n",
      "Element is divible by 3\n",
      "19\n",
      "Element is not divisible by 3\n",
      "20\n",
      "Element is not divisible by 3\n",
      "21\n",
      "Element is divible by 3\n",
      "22\n",
      "Element is not divisible by 3\n",
      "23\n",
      "Element is not divisible by 3\n",
      "24\n",
      "Element is divible by 3\n",
      "25\n",
      "Element is not divisible by 3\n"
     ]
    }
   ],
   "source": [
    "#6\n",
    "l=[1,2,3,4,5,6,7,8,9,10,11,12,13,14,15,16,17,18,19,20,21,22,23,24,25]\n",
    "for i in l:\n",
    "    if i%3==0:\n",
    "        print(i)\n",
    "        print(\"Element is divible by 3\")\n",
    "    else:\n",
    "        print(i)\n",
    "        print(\"Element is not divisible by 3\")\n"
   ]
  },
  {
   "cell_type": "code",
   "execution_count": 24,
   "id": "160189c9-fda0-4636-8d6f-5f1b9f425cc5",
   "metadata": {},
   "outputs": [
    {
     "name": "stdout",
     "output_type": "stream",
     "text": [
      "[1, 2, 3, 'divesh', 'ishu', 16.23, 94.7, False]\n"
     ]
    }
   ],
   "source": [
    "#7\n",
    "#Mutable data types- The data types in which we can chage the value at a given position.Example-List is Mutable data  type\n",
    "l=[1,2,3,\"divesh\",\"ishu\",16.23,94.7,False]\n",
    "print(l)"
   ]
  },
  {
   "cell_type": "code",
   "execution_count": 26,
   "id": "ec8cf9c9-1597-43a2-84c0-701d07612267",
   "metadata": {},
   "outputs": [],
   "source": [
    "l[4]=\"ramu\""
   ]
  },
  {
   "cell_type": "code",
   "execution_count": 27,
   "id": "3db6bb3f-e0f4-41bb-ae4a-e8be1573bde8",
   "metadata": {},
   "outputs": [
    {
     "name": "stdout",
     "output_type": "stream",
     "text": [
      "[1, 2, 3, 'divesh', 'ramu', 16.23, 94.7, False]\n"
     ]
    }
   ],
   "source": [
    "print(l)"
   ]
  },
  {
   "cell_type": "code",
   "execution_count": 33,
   "id": "37e2c4d5-5352-489f-82fb-fd10cb41c519",
   "metadata": {},
   "outputs": [
    {
     "name": "stdout",
     "output_type": "stream",
     "text": [
      "(1, 2, 'divesh')\n"
     ]
    }
   ],
   "source": [
    "#Immutable data types- The data types in which we cannot change the value at a given position.Example-tuple is immutable\n",
    "s=(1,2,\"divesh\")\n",
    "print(s)"
   ]
  },
  {
   "cell_type": "code",
   "execution_count": 36,
   "id": "1893f3e2-e65d-4ac2-a934-ba6b59c9e839",
   "metadata": {},
   "outputs": [
    {
     "ename": "TypeError",
     "evalue": "'tuple' object does not support item assignment",
     "output_type": "error",
     "traceback": [
      "\u001b[0;31m---------------------------------------------------------------------------\u001b[0m",
      "\u001b[0;31mTypeError\u001b[0m                                 Traceback (most recent call last)",
      "Cell \u001b[0;32mIn[36], line 1\u001b[0m\n\u001b[0;32m----> 1\u001b[0m \u001b[43ms\u001b[49m\u001b[43m[\u001b[49m\u001b[38;5;241;43m1\u001b[39;49m\u001b[43m]\u001b[49m\u001b[38;5;241m=\u001b[39m\u001b[38;5;241m4\u001b[39m\n",
      "\u001b[0;31mTypeError\u001b[0m: 'tuple' object does not support item assignment"
     ]
    }
   ],
   "source": [
    "s[1]=4"
   ]
  },
  {
   "cell_type": "code",
   "execution_count": null,
   "id": "babfa51b-b0c7-464e-94b8-100fd465b7c0",
   "metadata": {},
   "outputs": [],
   "source": []
  }
 ],
 "metadata": {
  "kernelspec": {
   "display_name": "Python 3 (ipykernel)",
   "language": "python",
   "name": "python3"
  },
  "language_info": {
   "codemirror_mode": {
    "name": "ipython",
    "version": 3
   },
   "file_extension": ".py",
   "mimetype": "text/x-python",
   "name": "python",
   "nbconvert_exporter": "python",
   "pygments_lexer": "ipython3",
   "version": "3.10.8"
  }
 },
 "nbformat": 4,
 "nbformat_minor": 5
}
