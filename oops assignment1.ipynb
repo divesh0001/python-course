{
 "cells": [
  {
   "cell_type": "code",
   "execution_count": 1,
   "id": "13804e8e-9c35-4246-ae88-9fe1e3eebc67",
   "metadata": {},
   "outputs": [],
   "source": [
    "#1\n",
    "'''In object-oriented programming (OOP), a class is a blueprint or template that defines the characteristics and behaviors of a particular type of \n",
    "object. It provides a structure for creating instances of objects, known as objects themselves. A class encapsulates data (attributes) and \n",
    "functions (methods) that operate on that data. It serves as a blueprint for creating multiple objects with similar properties and behaviors.\n",
    "\n",
    "An object, on the other hand, is an instance of a class. It represents a specific entity or concept that exists in the program's runtime. \n",
    "Objects have their own unique state and behavior, which are defined by the class they belong to. You can think of objects as individual entities\n",
    "that possess characteristics and can perform actions based on the class's definition.\n",
    "\n",
    "Let's consider a simple example using a class called \"Car\":\n",
    "'''\n",
    "\n",
    "class Car:\n",
    "    def __init__(self, make, model, year):\n",
    "        self.make = make\n",
    "        self.model = model\n",
    "        self.year = year\n",
    "        self.speed = 0\n",
    "\n",
    "    def accelerate(self, increment):\n",
    "        self.speed += increment\n",
    "\n",
    "    def brake(self, decrement):\n",
    "        self.speed -= decrement\n",
    "\n",
    "    def get_speed(self):\n",
    "        return self.speed\n",
    "\n"
   ]
  },
  {
   "cell_type": "code",
   "execution_count": 2,
   "id": "e07d9f38-fcd5-4ea2-b503-1d8bd043f002",
   "metadata": {},
   "outputs": [],
   "source": [
    "'''In this example, the class \"Car\" defines the blueprint for creating car objects. It has attributes such as \"make,\" \"model,\" \"year,\" and \"speed.\" \n",
    "The class also has methods like \"accelerate,\" \"brake,\" and \"get_speed\" to manipulate and retrieve the car's speed.\n",
    "\n",
    "To create instances of the \"Car\" class, we can initialize objects by invoking the class as follows:\n",
    "Here, \"my_car\" is an object of the class \"Car.\" It represents a specific car instance with the make \"Toyota,\" model \"Camry,\" and year 2022.\n",
    "We can now use the methods defined in the class to interact with this object:\n",
    "'''\n",
    "\n",
    "\n",
    "my_car = Car(\"Toyota\", \"Camry\", 2022)\n"
   ]
  },
  {
   "cell_type": "code",
   "execution_count": 3,
   "id": "5ebaff15-b12f-4b1f-8e03-6542efec0049",
   "metadata": {},
   "outputs": [
    {
     "data": {
      "text/plain": [
       "'\\nEncapsulation\\nPolymorphism\\nInheritance\\nAbstraction\\n'"
      ]
     },
     "execution_count": 3,
     "metadata": {},
     "output_type": "execute_result"
    }
   ],
   "source": [
    "#2\n",
    "'''\n",
    "Encapsulation\n",
    "Polymorphism\n",
    "Inheritance\n",
    "Abstraction\n",
    "'''\n"
   ]
  },
  {
   "cell_type": "code",
   "execution_count": 4,
   "id": "9340b42b-7c87-4be3-9472-3743a8d64b1e",
   "metadata": {},
   "outputs": [],
   "source": [
    "#3\n",
    "'''The __init__() function is a special method in Python classes that is automatically called when a new object (instance) of a class is created.\n",
    "It is commonly used to initialize the attributes of the object with values provided as arguments during object creation.\n",
    "\n",
    "The primary purpose of the __init__() function is to set up the initial state of an object by assigning values to its attributes. It allows you\n",
    "to define how an object should be initialized and specify any required parameters or default values.\n",
    "\n",
    "Here's an example to illustrate the usage of the __init__() function:\n",
    "'''\n",
    "class Person:\n",
    "    def __init__(self, name, age):\n",
    "        self.name = name\n",
    "        self.age = age\n",
    "\n",
    "    def introduce(self):\n",
    "        print(f\"Hello, my name is {self.name} and I am {self.age} years old.\")\n",
    "\n",
    "# Creating an instance of the Person class\n",
    "john = Person(\"John\", 25)\n"
   ]
  },
  {
   "cell_type": "code",
   "execution_count": 5,
   "id": "a0d9c57c-3a73-4c27-b43d-d8c2b48ead05",
   "metadata": {},
   "outputs": [
    {
     "data": {
      "text/plain": [
       "'In object-oriented programming (OOP), the self parameter is used within class methods to refer to the instance of the class itself. It is a \\nconvention in Python (though the name can be different, self is commonly used) to represent the instance being operated on.\\n\\nWhen a method is called on an object, such as object.method(), the object automatically gets passed as the first argument to the method. By\\nconvention, this argument is named self. It allows the method to access and manipulate the attributes and methods of the specific instance it\\nis being called on.'"
      ]
     },
     "execution_count": 5,
     "metadata": {},
     "output_type": "execute_result"
    }
   ],
   "source": [
    "#4\n",
    "'''In object-oriented programming (OOP), the self parameter is used within class methods to refer to the instance of the class itself. It is a \n",
    "convention in Python (though the name can be different, self is commonly used) to represent the instance being operated on.\n",
    "\n",
    "When a method is called on an object, such as object.method(), the object automatically gets passed as the first argument to the method. By\n",
    "convention, this argument is named self. It allows the method to access and manipulate the attributes and methods of the specific instance it\n",
    "is being called on.'''"
   ]
  },
  {
   "cell_type": "code",
   "execution_count": 6,
   "id": "e2550bec-50a3-45af-ac82-30c1f99737fe",
   "metadata": {},
   "outputs": [
    {
     "name": "stdout",
     "output_type": "stream",
     "text": [
      "Brand: Toyota\n",
      "Model: Camry\n"
     ]
    }
   ],
   "source": [
    "#5\n",
    "'''Inheritance is a fundamental concept in object-oriented programming (OOP) that allows a class to inherit properties and behaviors from another class.\n",
    "The class that inherits is called the subclass or derived class, and the class being inherited from is called the superclass or base class.\n",
    "Inheritance promotes code reuse, modularity, and hierarchy by allowing subclasses to inherit and extend the characteristics of their superclass.\n",
    "\n",
    "There are different types of inheritance, which are as follows:\n",
    "\n",
    "Single Inheritance: Single inheritance involves a subclass inheriting properties and behaviors from a single superclass. The subclass extends the\n",
    "superclass by adding its own unique attributes and methods. It forms a linear inheritance hierarchy.\n",
    "Example:\n",
    "'''\n",
    "class Vehicle:\n",
    "    def __init__(self, brand):\n",
    "        self.brand = brand\n",
    "\n",
    "    def display_brand(self):\n",
    "        print(\"Brand:\", self.brand)\n",
    "\n",
    "class Car(Vehicle):\n",
    "    def __init__(self, brand, model):\n",
    "        super().__init__(brand)\n",
    "        self.model = model\n",
    "\n",
    "    def display_model(self):\n",
    "        print(\"Model:\", self.model)\n",
    "\n",
    "my_car = Car(\"Toyota\", \"Camry\")\n",
    "my_car.display_brand()  \n",
    "my_car.display_model()  \n",
    "#In this example, the class Vehicle is the superclass, and Car is the subclass. The Car class inherits the brand attribute and the display_brand() method from the Vehicle class using single inheritance. The Car class adds its own attribute model and the display_model() method.\n",
    "\n"
   ]
  },
  {
   "cell_type": "code",
   "execution_count": 9,
   "id": "3d5d7ab2-236d-4668-9978-0de9f80a7fb7",
   "metadata": {},
   "outputs": [
    {
     "name": "stdout",
     "output_type": "stream",
     "text": [
      "Name: Eagle\n",
      "Species: Bald Eagle\n",
      "I can fly!\n"
     ]
    }
   ],
   "source": [
    "'''Multiple Inheritance: Multiple inheritance occurs when a subclass inherits properties and behaviors from multiple superclasses. The subclass \n",
    "combines features from multiple parent classes.\n",
    "Example:\n",
    "\n",
    "'''\n",
    "class Animal:\n",
    "    def __init__(self, name):\n",
    "        self.name = name\n",
    "\n",
    "    def display_name(self):\n",
    "        print(\"Name:\", self.name)\n",
    "\n",
    "class Flyable:\n",
    "    def fly(self):\n",
    "        print(\"I can fly!\")\n",
    "\n",
    "class Bird(Animal, Flyable):\n",
    "    def __init__(self, name, species):\n",
    "        super().__init__(name)\n",
    "        self.species = species\n",
    "\n",
    "    def display_species(self):\n",
    "        print(\"Species:\", self.species)\n",
    "\n",
    "my_bird = Bird(\"Eagle\", \"Bald Eagle\")\n",
    "my_bird.display_name()    \n",
    "my_bird.display_species() \n",
    "my_bird.fly()       \n",
    "'''In this example, the Bird class inherits from both the Animal class and the Flyable class, utilizing multiple inheritance. The Bird class inherits\n",
    "the name attribute and the display_name() method from the Animal class, as well as the fly() method from the Flyable class. The Bird class also has \n",
    "its own attribute species and the display_species() method.'''\n"
   ]
  },
  {
   "cell_type": "code",
   "execution_count": 10,
   "id": "ab99fb62-0d1b-4a3a-9bc1-39bf8733875a",
   "metadata": {},
   "outputs": [
    {
     "name": "stdout",
     "output_type": "stream",
     "text": [
      "Animal is eating...\n",
      "Mammal is breathing...\n",
      "Dog is barking...\n"
     ]
    }
   ],
   "source": [
    "'''Multilevel Inheritance: Multilevel inheritance refers to a scenario where a subclass inherits from a superclass, and that subclass, in turn, becomes\n",
    "the superclass for another subclass. It forms a chain-like inheritance hierarchy.\n",
    "Example:\n",
    "'''\n",
    "class Animal:\n",
    "    def eat(self):\n",
    "        print(\"Animal is eating...\")\n",
    "\n",
    "class Mammal(Animal):\n",
    "    def breathe(self):\n",
    "        print(\"Mammal is breathing...\")\n",
    "\n",
    "class Dog(Mammal):\n",
    "    def bark(self):\n",
    "        print(\"Dog is barking...\")\n",
    "\n",
    "my_dog = Dog()\n",
    "my_dog.eat()     \n",
    "my_dog.breathe() \n",
    "my_dog.bark()    "
   ]
  },
  {
   "cell_type": "code",
   "execution_count": null,
   "id": "3c271f72-0b3d-4495-8364-3fdee0d0c053",
   "metadata": {},
   "outputs": [],
   "source": []
  }
 ],
 "metadata": {
  "kernelspec": {
   "display_name": "Python 3 (ipykernel)",
   "language": "python",
   "name": "python3"
  },
  "language_info": {
   "codemirror_mode": {
    "name": "ipython",
    "version": 3
   },
   "file_extension": ".py",
   "mimetype": "text/x-python",
   "name": "python",
   "nbconvert_exporter": "python",
   "pygments_lexer": "ipython3",
   "version": "3.10.8"
  }
 },
 "nbformat": 4,
 "nbformat_minor": 5
}
