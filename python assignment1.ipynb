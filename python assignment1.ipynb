{
 "cells": [
  {
   "cell_type": "code",
   "execution_count": 2,
   "id": "d809884d-702a-4ff0-9455-b504ffeae9ce",
   "metadata": {},
   "outputs": [
    {
     "name": "stdout",
     "output_type": "stream",
     "text": [
      "[1, 3, 5, 7, 9, 11, 13, 15, 17, 19, 21, 23, 25]\n"
     ]
    }
   ],
   "source": [
    "#1\n",
    "#In Python, the keyword used to create a function is def.\n",
    "\n",
    "def get_oddno():\n",
    "    odd_numbers = []\n",
    "    for num in range(1, 26):\n",
    "        if num % 2 != 0:\n",
    "            odd_numbers.append(num)\n",
    "    return odd_numbers\n",
    "\n",
    "\n",
    "print(get_oddno())\n"
   ]
  },
  {
   "cell_type": "code",
   "execution_count": 3,
   "id": "22ba25c9-f7d9-4ce9-a7c6-82c1ae0c4a90",
   "metadata": {},
   "outputs": [
    {
     "name": "stdout",
     "output_type": "stream",
     "text": [
      "1\n",
      "2\n",
      "3\n",
      "4\n"
     ]
    }
   ],
   "source": [
    "#2\n",
    "#n Python, *args and **kwargs are used to pass a variable number of arguments to a function.\n",
    "\n",
    "#*args allows a function to accept any number of positional arguments. It collects all the positional arguments into a tuple within the function.\n",
    "#Here's an example:\n",
    "\n",
    "def my_function(*args):\n",
    "    for arg in args:\n",
    "        print(arg)\n",
    "\n",
    "# Call the function with multiple arguments\n",
    "my_function(1, 2, 3, 4)"
   ]
  },
  {
   "cell_type": "code",
   "execution_count": 6,
   "id": "bc82d68a-d57f-439f-be7c-96ac297a8e04",
   "metadata": {},
   "outputs": [
    {
     "name": "stdout",
     "output_type": "stream",
     "text": [
      "name Alice\n",
      "age 25\n",
      "city New York\n"
     ]
    }
   ],
   "source": [
    "#kwargs allows a function to accept any number of keyword arguments (i.e., arguments passed with their corresponding names). It collects all the\n",
    "#keyword arguments into a dictionary within the function. Here's an example:\n",
    "def my_function1(**kwargs):\n",
    "    for key, value in kwargs.items():\n",
    "        print(key, value)\n",
    "\n",
    "# Call the function with multiple keyword arguments\n",
    "my_function1(name='Alice', age=25, city='New York')"
   ]
  },
  {
   "cell_type": "code",
   "execution_count": 7,
   "id": "3672ae1b-2d45-4ff0-b534-20d4e161ec02",
   "metadata": {},
   "outputs": [
    {
     "name": "stdout",
     "output_type": "stream",
     "text": [
      "2\n",
      "4\n",
      "6\n",
      "8\n",
      "10\n"
     ]
    }
   ],
   "source": [
    "#3\n",
    "'''An iterator in Python is an object that implements the iterator protocol, which consists of the methods `__iter__()` and `__next__()`.\n",
    "It allows you to traverse through the elements of a container (such as a list) one by one.\n",
    "\n",
    "To initialize an iterator object, you need to call the `iter()` function on the container. The `iter()` function returns an iterator object.\n",
    "\n",
    "To iterate over the elements, you use the `next()` function on the iterator object. The `next()` function returns the next element in the iteration.\n",
    "\n",
    "Here's an example that demonstrates how to initialize an iterator object and iterate over the first five elements of the list `[2, 4, 6, 8, 10,\n",
    "12, 14, 16, 18, 20]`:\n",
    "\n",
    "'''\n",
    "my_list = [2, 4, 6, 8, 10, 12, 14, 16, 18, 20]\n",
    "\n",
    "# Initialize the iterator object\n",
    "my_iterator = iter(my_list)\n",
    "\n",
    "# Iterate and print the first five elements\n",
    "for _ in range(5):\n",
    "    element = next(my_iterator)\n",
    "    print(element)\n",
    "\n"
   ]
  },
  {
   "cell_type": "code",
   "execution_count": 8,
   "id": "ba4c90a4-b534-487f-811e-d3a753954cf7",
   "metadata": {},
   "outputs": [
    {
     "name": "stdout",
     "output_type": "stream",
     "text": [
      "0\n",
      "2\n",
      "4\n",
      "6\n",
      "8\n"
     ]
    }
   ],
   "source": [
    "#4\n",
    "'''In Python, a generator function is a special type of function that uses the yield keyword instead of return to generate a sequence of values.\n",
    "It allows you to iterate over a potentially infinite sequence of values without having to store them all in memory at once. Generator functions\n",
    "create generator objects, which are iterators.\n",
    "\n",
    "The yield keyword is used in a generator function to yield a value to the caller, suspending the function's execution state. When the function \n",
    "is called again, it resumes from where it left off, allowing you to generate a sequence of values incrementally.\n",
    "\n",
    "Here's an example of a generator function that generates even numbers:\n",
    "\n",
    "'''\n",
    "def even_numbers():\n",
    "    num = 0\n",
    "    while True:\n",
    "        yield num\n",
    "        num += 2\n",
    "\n",
    "# Create a generator object\n",
    "even_gen = even_numbers()\n",
    "\n",
    "# Print the first five even numbers\n",
    "for _ in range(5):\n",
    "    print(next(even_gen))"
   ]
  },
  {
   "cell_type": "code",
   "execution_count": 9,
   "id": "a7f14372-6199-44fd-8120-09738217a285",
   "metadata": {},
   "outputs": [
    {
     "name": "stdout",
     "output_type": "stream",
     "text": [
      "2\n",
      "3\n",
      "5\n",
      "7\n",
      "11\n",
      "13\n",
      "17\n",
      "19\n",
      "23\n",
      "29\n",
      "31\n",
      "37\n",
      "41\n",
      "43\n",
      "47\n",
      "53\n",
      "59\n",
      "61\n",
      "67\n",
      "71\n"
     ]
    }
   ],
   "source": [
    "#5\n",
    "def prime_generator():\n",
    "    primes = []\n",
    "    num = 2\n",
    "    while True:\n",
    "        if all(num % prime != 0 for prime in primes):\n",
    "            primes.append(num)\n",
    "            yield num\n",
    "        num += 1\n",
    "\n",
    "# Create a generator object\n",
    "prime_gen = prime_generator()\n",
    "\n",
    "# Print the first 20 prime numbers\n",
    "for _ in range(20):\n",
    "    prime = next(prime_gen)\n",
    "    print(prime)\n"
   ]
  },
  {
   "cell_type": "code",
   "execution_count": 26,
   "id": "450a3887-f609-4048-815a-809421aac2d0",
   "metadata": {},
   "outputs": [],
   "source": [
    "#6\n",
    "def fibonacci(n):\n",
    "    count = 1\n",
    "    print(\"Fibonacci series is: \", end=\" \")\n",
    "    a,b=0,1\n",
    "    while (count <= n):\n",
    "        count += 1\n",
    "        print(a, end=\" \")\n",
    "        a,b=b,a+b\n",
    "        \n",
    "    "
   ]
  },
  {
   "cell_type": "code",
   "execution_count": 28,
   "id": "9d7623eb-4b33-4c0b-b76e-5e6ed0c5114f",
   "metadata": {},
   "outputs": [
    {
     "name": "stdout",
     "output_type": "stream",
     "text": [
      "Fibonacci series is:  0 1 1 2 3 5 8 13 21 34 "
     ]
    }
   ],
   "source": [
    "fibonacci(10)"
   ]
  },
  {
   "cell_type": "code",
   "execution_count": 29,
   "id": "21b284e3-4784-4b1d-81e7-b9fca1579c97",
   "metadata": {},
   "outputs": [
    {
     "name": "stdout",
     "output_type": "stream",
     "text": [
      "['p', 'w', 's', 'k', 'i', 'l', 'l', 's']\n"
     ]
    }
   ],
   "source": [
    "#7\n",
    "string = 'pwskills'\n",
    "output = [char for char in string]\n",
    "print(output)\n"
   ]
  },
  {
   "cell_type": "code",
   "execution_count": 34,
   "id": "5267b12e-32c6-425c-999d-ce10ae174853",
   "metadata": {},
   "outputs": [
    {
     "name": "stdin",
     "output_type": "stream",
     "text": [
      "Enter a number:  12321\n"
     ]
    },
    {
     "name": "stdout",
     "output_type": "stream",
     "text": [
      "12321 is a palindrome.\n"
     ]
    }
   ],
   "source": [
    "#8\n",
    "number = int(input(\"Enter a number: \"))\n",
    "temp = number\n",
    "reverse = 0\n",
    "\n",
    "while temp > 0:\n",
    "    digit = temp % 10\n",
    "    reverse = reverse * 10 + digit\n",
    "    temp = temp // 10\n",
    "\n",
    "if number == reverse:\n",
    "    print(number, \"is a palindrome.\")\n",
    "else:\n",
    "    print(number, \"is not a palindrome.\")\n"
   ]
  },
  {
   "cell_type": "code",
   "execution_count": 42,
   "id": "98ef44de-59e1-4fee-be3d-94725fb36fec",
   "metadata": {},
   "outputs": [
    {
     "name": "stdout",
     "output_type": "stream",
     "text": [
      "[1, 3, 5, 7, 9, 11, 13, 15, 17, 19, 21, 23, 25, 27, 29, 31, 33, 35, 37, 39, 41, 43, 45, 47, 49, 51, 53, 55, 57, 59, 61, 63, 65, 67, 69, 71, 73, 75, 77, 79, 81, 83, 85, 87, 89, 91, 93, 95, 97, 99]\n"
     ]
    }
   ],
   "source": [
    "#10\n",
    "l=[]\n",
    "for i in range(1,100):\n",
    "    if i%2 != 0:\n",
    "        l.append(i)\n",
    "    else:\n",
    "        continue\n",
    "print(l)\n",
    "    "
   ]
  },
  {
   "cell_type": "code",
   "execution_count": null,
   "id": "74a86680-45ad-471e-bd8d-b7d59971d1c1",
   "metadata": {},
   "outputs": [],
   "source": []
  }
 ],
 "metadata": {
  "kernelspec": {
   "display_name": "Python 3 (ipykernel)",
   "language": "python",
   "name": "python3"
  },
  "language_info": {
   "codemirror_mode": {
    "name": "ipython",
    "version": 3
   },
   "file_extension": ".py",
   "mimetype": "text/x-python",
   "name": "python",
   "nbconvert_exporter": "python",
   "pygments_lexer": "ipython3",
   "version": "3.10.8"
  }
 },
 "nbformat": 4,
 "nbformat_minor": 5
}
