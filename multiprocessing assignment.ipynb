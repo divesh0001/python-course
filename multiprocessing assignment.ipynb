{
 "cells": [
  {
   "cell_type": "code",
   "execution_count": 2,
   "id": "e1590d7d-ba92-49b0-aa85-3ff3285c5530",
   "metadata": {},
   "outputs": [
    {
     "data": {
      "text/plain": [
       "\"\\nMultiprocessing in Python refers to the ability of the language to create and manage multiple processes concurrently, allowing for parallel execution\\nof tasks on systems with multiple CPU cores or processors. It is achieved through the `multiprocessing` module in the Python Standard Library.\\n\\nHere are some key points highlighting the usefulness of multiprocessing in Python:\\n\\n1. Utilizing Multiple CPU Cores: By leveraging multiprocessing, Python programs can take advantage of the full computing power of modern systems with\\nmultiple CPU cores. It allows for parallel execution of tasks across multiple processes, enabling faster and more efficient computation, especially \\nfor CPU-intensive tasks.\\n\\n2. Improved Performance: Multiprocessing can significantly improve the performance of certain types of applications, such as those involving heavy \\ncomputations, simulations, data processing, or concurrent tasks. By dividing the workload among multiple processes, the overall execution time can \\nbe reduced, leading to faster results.\\n\\n3. Increased Responsiveness: Multiprocessing helps maintain the responsiveness of Python programs, even when performing resource-intensive operations.\\nBy offloading computationally intensive tasks to separate processes, the main process can remain responsive and continue to handle user input or \\nperform other tasks concurrently.\\n\\n4. Fault Isolation: Each process in multiprocessing runs in its own memory space, ensuring fault isolation. If one process encounters an error or \\ncrashes, it typically does not affect other processes, allowing the overall application to remain stable.\\n\\n5. CPU-bound and I/O-bound Tasks: Multiprocessing is particularly beneficial for CPU-bound tasks that heavily utilize computational resources. However\\n, it can also be useful for I/O-bound tasks, where multiple processes can perform concurrent I/O operations, such as reading from or writing to files\\n, network communication, or accessing databases.\\n\\n6. Simplified Parallelism: The `multiprocessing` module in Python provides a high-level and straightforward interface for creating and managing \\nmultiple processes. It abstracts away the complexities of low-level process creation and inter-process communication, making it easier for developers\\nto introduce parallelism into their programs.\\n\\n7. Compatibility with Global Interpreter Lock (GIL): Python's Global Interpreter Lock (GIL) limits the parallel execution of threads within a single\\nprocess. However, multiprocessing allows programs to bypass the GIL and truly execute tasks in parallel across multiple processes, thereby utilizing\\nmultiple CPU cores effectively.\\n\\n\\nOverall, multiprocessing in Python empowers developers to leverage parallelism, improve performance, and make efficient use of modern hardware\\nresources. It is especially valuable for computationally intensive tasks or applications that require concurrent execution and can lead to\\nsignificant speedup and enhanced responsiveness.\""
      ]
     },
     "execution_count": 2,
     "metadata": {},
     "output_type": "execute_result"
    }
   ],
   "source": [
    "#1\n",
    "'''\n",
    "Multiprocessing in Python refers to the ability of the language to create and manage multiple processes concurrently, allowing for parallel execution\n",
    "of tasks on systems with multiple CPU cores or processors. It is achieved through the `multiprocessing` module in the Python Standard Library.\n",
    "\n",
    "Here are some key points highlighting the usefulness of multiprocessing in Python:\n",
    "\n",
    "1. Utilizing Multiple CPU Cores: By leveraging multiprocessing, Python programs can take advantage of the full computing power of modern systems with\n",
    "multiple CPU cores. It allows for parallel execution of tasks across multiple processes, enabling faster and more efficient computation, especially \n",
    "for CPU-intensive tasks.\n",
    "\n",
    "2. Improved Performance: Multiprocessing can significantly improve the performance of certain types of applications, such as those involving heavy \n",
    "computations, simulations, data processing, or concurrent tasks. By dividing the workload among multiple processes, the overall execution time can \n",
    "be reduced, leading to faster results.\n",
    "\n",
    "3. Increased Responsiveness: Multiprocessing helps maintain the responsiveness of Python programs, even when performing resource-intensive operations.\n",
    "By offloading computationally intensive tasks to separate processes, the main process can remain responsive and continue to handle user input or \n",
    "perform other tasks concurrently.\n",
    "\n",
    "4. Fault Isolation: Each process in multiprocessing runs in its own memory space, ensuring fault isolation. If one process encounters an error or \n",
    "crashes, it typically does not affect other processes, allowing the overall application to remain stable.\n",
    "\n",
    "5. CPU-bound and I/O-bound Tasks: Multiprocessing is particularly beneficial for CPU-bound tasks that heavily utilize computational resources. However\n",
    ", it can also be useful for I/O-bound tasks, where multiple processes can perform concurrent I/O operations, such as reading from or writing to files\n",
    ", network communication, or accessing databases.\n",
    "\n",
    "6. Simplified Parallelism: The `multiprocessing` module in Python provides a high-level and straightforward interface for creating and managing \n",
    "multiple processes. It abstracts away the complexities of low-level process creation and inter-process communication, making it easier for developers\n",
    "to introduce parallelism into their programs.\n",
    "\n",
    "7. Compatibility with Global Interpreter Lock (GIL): Python's Global Interpreter Lock (GIL) limits the parallel execution of threads within a single\n",
    "process. However, multiprocessing allows programs to bypass the GIL and truly execute tasks in parallel across multiple processes, thereby utilizing\n",
    "multiple CPU cores effectively.\n",
    "\n",
    "\n",
    "Overall, multiprocessing in Python empowers developers to leverage parallelism, improve performance, and make efficient use of modern hardware\n",
    "resources. It is especially valuable for computationally intensive tasks or applications that require concurrent execution and can lead to\n",
    "significant speedup and enhanced responsiveness.'''"
   ]
  },
  {
   "cell_type": "code",
   "execution_count": 3,
   "id": "fda18aa4-26d5-4689-b646-90d89a2b6aea",
   "metadata": {},
   "outputs": [
    {
     "data": {
      "text/plain": [
       "'Multiprocessing and multithreading are two different approaches to achieve concurrent execution in a program. Here are the key differences between\\nthem:\\n\\n1. Execution Model:\\n   - Multiprocessing: In multiprocessing, the program creates multiple processes, each with its own memory space and resources. These processes run\\n   independently and can execute tasks in parallel on different CPU cores or processors.\\n   - Multithreading: In multithreading, a single process contains multiple threads of execution. These threads share the same memory space and\\n   resources within the process and can run concurrently. However, due to the Global Interpreter Lock (GIL) in Python, only one thread can execute\\n   Python bytecode at a time, so true parallelism is limited.\\n\\n2. Parallelism:\\n   - Multiprocessing: Multiprocessing provides true parallelism by utilizing multiple CPU cores or processors. Each process runs independently,\\n   allowing for simultaneous execution of multiple tasks on different cores.\\n   - Multithreading: Multithreading does not provide true parallelism within the same process due to the GIL. Although multiple threads can run \\n   concurrently, only one thread executes Python bytecode at a time. Therefore, multithreading is suitable for I/O-bound tasks or situations where \\n   parallelism is not CPU-bound.\\n\\n\\n3. Resource Utilization:\\n   - Multiprocessing: Each process in multiprocessing has its own memory space, allowing for better resource isolation. However, inter-process \\n   communication (IPC) mechanisms are required to share data between processes, which can introduce additional complexity.\\n   - Multithreading: Threads within the same process share the same memory space, allowing for easy sharing of data and resources. This simplifies \\n   communication and data sharing but requires synchronization mechanisms to avoid race conditions and ensure thread safety.\\n\\n4. Overhead:\\n   - Multiprocessing: Creating and managing processes has higher overhead compared to threads. Process creation involves duplicating the entire \\n   process, including memory space and resources, which can be relatively expensive.\\n   - Multithreading: Creating and managing threads has lower overhead compared to processes. Threads are lighter-weight and require fewer system \\n   resources, making thread creation and context switching faster.\\n\\n5. Debugging and Complexity:\\n   - Multiprocessing: Debugging multiprocessing programs can be relatively easier due to the isolation between processes. Each process operates \\n   independently, making it simpler to identify and isolate issues.\\n   - Multithreading: Debugging multithreaded programs can be more complex due to shared memory and potential race conditions. Thread synchronization \\n   and coordination can introduce concurrency-related bugs that are harder to diagnose and fix.\\n\\nThe choice between multiprocessing and multithreading depends on the nature of the task, the level of parallelism required, and the resources \\navailable. Multiprocessing is suitable for CPU-bound tasks that benefit from true parallelism, while multithreading is better for I/O-bound tasks or\\nsituations where simplicity and easy resource sharing are important.'"
      ]
     },
     "execution_count": 3,
     "metadata": {},
     "output_type": "execute_result"
    }
   ],
   "source": [
    "#2\n",
    "'''Multiprocessing and multithreading are two different approaches to achieve concurrent execution in a program. Here are the key differences between\n",
    "them:\n",
    "\n",
    "1. Execution Model:\n",
    "   - Multiprocessing: In multiprocessing, the program creates multiple processes, each with its own memory space and resources. These processes run\n",
    "   independently and can execute tasks in parallel on different CPU cores or processors.\n",
    "   - Multithreading: In multithreading, a single process contains multiple threads of execution. These threads share the same memory space and\n",
    "   resources within the process and can run concurrently. However, due to the Global Interpreter Lock (GIL) in Python, only one thread can execute\n",
    "   Python bytecode at a time, so true parallelism is limited.\n",
    "\n",
    "2. Parallelism:\n",
    "   - Multiprocessing: Multiprocessing provides true parallelism by utilizing multiple CPU cores or processors. Each process runs independently,\n",
    "   allowing for simultaneous execution of multiple tasks on different cores.\n",
    "   - Multithreading: Multithreading does not provide true parallelism within the same process due to the GIL. Although multiple threads can run \n",
    "   concurrently, only one thread executes Python bytecode at a time. Therefore, multithreading is suitable for I/O-bound tasks or situations where \n",
    "   parallelism is not CPU-bound.\n",
    "\n",
    "\n",
    "3. Resource Utilization:\n",
    "   - Multiprocessing: Each process in multiprocessing has its own memory space, allowing for better resource isolation. However, inter-process \n",
    "   communication (IPC) mechanisms are required to share data between processes, which can introduce additional complexity.\n",
    "   - Multithreading: Threads within the same process share the same memory space, allowing for easy sharing of data and resources. This simplifies \n",
    "   communication and data sharing but requires synchronization mechanisms to avoid race conditions and ensure thread safety.\n",
    "\n",
    "4. Overhead:\n",
    "   - Multiprocessing: Creating and managing processes has higher overhead compared to threads. Process creation involves duplicating the entire \n",
    "   process, including memory space and resources, which can be relatively expensive.\n",
    "   - Multithreading: Creating and managing threads has lower overhead compared to processes. Threads are lighter-weight and require fewer system \n",
    "   resources, making thread creation and context switching faster.\n",
    "\n",
    "5. Debugging and Complexity:\n",
    "   - Multiprocessing: Debugging multiprocessing programs can be relatively easier due to the isolation between processes. Each process operates \n",
    "   independently, making it simpler to identify and isolate issues.\n",
    "   - Multithreading: Debugging multithreaded programs can be more complex due to shared memory and potential race conditions. Thread synchronization \n",
    "   and coordination can introduce concurrency-related bugs that are harder to diagnose and fix.\n",
    "\n",
    "The choice between multiprocessing and multithreading depends on the nature of the task, the level of parallelism required, and the resources \n",
    "available. Multiprocessing is suitable for CPU-bound tasks that benefit from true parallelism, while multithreading is better for I/O-bound tasks or\n",
    "situations where simplicity and easy resource sharing are important.'''"
   ]
  },
  {
   "cell_type": "code",
   "execution_count": 4,
   "id": "1c084aa5-bf0a-44cc-b3b7-4b0887ea4433",
   "metadata": {},
   "outputs": [
    {
     "name": "stdout",
     "output_type": "stream",
     "text": [
      "Worker A executing.\n",
      "Process execution completed.\n"
     ]
    }
   ],
   "source": [
    "#3\n",
    "import multiprocessing\n",
    "\n",
    "def worker(name):\n",
    "    \"\"\"Function to be executed by the process\"\"\"\n",
    "    print(f'Worker {name} executing.')\n",
    "\n",
    "if __name__ == '__main__':\n",
    "    # Create a process\n",
    "    process = multiprocessing.Process(target=worker, args=('A',))\n",
    "    \n",
    "    # Start the process\n",
    "    process.start()\n",
    "\n",
    "    # Wait for the process to finish\n",
    "    process.join()\n",
    "\n",
    "    print('Process execution completed.')\n"
   ]
  },
  {
   "cell_type": "code",
   "execution_count": 5,
   "id": "e1acdfeb-afa8-4b06-a8f6-b535c9a6516f",
   "metadata": {},
   "outputs": [
    {
     "data": {
      "text/plain": [
       "'\\nIn Python, a multiprocessing pool refers to a mechanism provided by the `multiprocessing` module for managing a pool of worker processes. It allows\\nfor the parallel execution of a function across multiple inputs, distributing the workload efficiently among the available processes.\\n\\nThe `multiprocessing.Pool` class provides a high-level interface for creating a pool of worker processes. It abstracts away the complexities of \\nprocess creation and management, making it easier to perform parallel computations.\\n\\nHere are some reasons why multiprocessing pools are commonly used:\\n\\n1. Parallel Execution: Multiprocessing pools enable parallel execution of a function across multiple inputs. The function is automatically divided\\namong the worker processes in the pool, allowing for concurrent and efficient processing of the data. This can significantly improve performance, \\nespecially for CPU-bound tasks that can be executed in parallel.\\n\\n2. Resource Management: The `multiprocessing.Pool` class takes care of creating and managing the worker processes in the pool. It automatically\\nmanages the allocation of processes, making efficient use of available CPU cores. The pool can dynamically adjust the number of processes based on\\nthe system resources, ensuring optimal utilization.\\n\\n3. Simplified Interface: Using a multiprocessing pool simplifies the code required for parallel execution. Instead of manually creating and managing \\nindividual processes, the pool abstracts away the underlying details, allowing developers to focus on the high-level logic of their tasks. This makes \\nthe code more readable and maintainable.\\n\\n4. Load Balancing: Multiprocessing pools distribute the workload evenly among the worker processes in the pool. This load balancing mechanism ensures\\nthat the tasks are distributed efficiently, avoiding scenarios where some processes are idle while others are overwhelmed. The pool automatically\\nmanages the task assignment, optimizing the overall performance.\\n\\n\\n5. Efficient Task Synchronization: The `multiprocessing.Pool` class provides convenient methods for executing tasks and gathering results. It handles\\nthe synchronization and coordination of tasks and the collection of results, making it easier to work with the output of parallel computations.\\n\\nOverall, multiprocessing pools in Python offer a convenient and efficient way to parallelize computations, distribute work across multiple processes,\\nand make effective use of available system resources. They simplify the process of parallel programming and allow developers to leverage the power \\nof multicore systems for faster and more efficient execution of tasks.'"
      ]
     },
     "execution_count": 5,
     "metadata": {},
     "output_type": "execute_result"
    }
   ],
   "source": [
    "#4\n",
    "'''\n",
    "In Python, a multiprocessing pool refers to a mechanism provided by the `multiprocessing` module for managing a pool of worker processes. It allows\n",
    "for the parallel execution of a function across multiple inputs, distributing the workload efficiently among the available processes.\n",
    "\n",
    "The `multiprocessing.Pool` class provides a high-level interface for creating a pool of worker processes. It abstracts away the complexities of \n",
    "process creation and management, making it easier to perform parallel computations.\n",
    "\n",
    "Here are some reasons why multiprocessing pools are commonly used:\n",
    "\n",
    "1. Parallel Execution: Multiprocessing pools enable parallel execution of a function across multiple inputs. The function is automatically divided\n",
    "among the worker processes in the pool, allowing for concurrent and efficient processing of the data. This can significantly improve performance, \n",
    "especially for CPU-bound tasks that can be executed in parallel.\n",
    "\n",
    "2. Resource Management: The `multiprocessing.Pool` class takes care of creating and managing the worker processes in the pool. It automatically\n",
    "manages the allocation of processes, making efficient use of available CPU cores. The pool can dynamically adjust the number of processes based on\n",
    "the system resources, ensuring optimal utilization.\n",
    "\n",
    "3. Simplified Interface: Using a multiprocessing pool simplifies the code required for parallel execution. Instead of manually creating and managing \n",
    "individual processes, the pool abstracts away the underlying details, allowing developers to focus on the high-level logic of their tasks. This makes \n",
    "the code more readable and maintainable.\n",
    "\n",
    "4. Load Balancing: Multiprocessing pools distribute the workload evenly among the worker processes in the pool. This load balancing mechanism ensures\n",
    "that the tasks are distributed efficiently, avoiding scenarios where some processes are idle while others are overwhelmed. The pool automatically\n",
    "manages the task assignment, optimizing the overall performance.\n",
    "\n",
    "\n",
    "5. Efficient Task Synchronization: The `multiprocessing.Pool` class provides convenient methods for executing tasks and gathering results. It handles\n",
    "the synchronization and coordination of tasks and the collection of results, making it easier to work with the output of parallel computations.\n",
    "\n",
    "Overall, multiprocessing pools in Python offer a convenient and efficient way to parallelize computations, distribute work across multiple processes,\n",
    "and make effective use of available system resources. They simplify the process of parallel programming and allow developers to leverage the power \n",
    "of multicore systems for faster and more efficient execution of tasks.'''"
   ]
  },
  {
   "cell_type": "code",
   "execution_count": 7,
   "id": "41d5d9ab-a305-440a-a1d9-11e1e73613b0",
   "metadata": {},
   "outputs": [
    {
     "name": "stdout",
     "output_type": "stream",
     "text": [
      "Results: [4, 16, 36, 64, 100]\n"
     ]
    }
   ],
   "source": [
    "#5\n",
    "'''\n",
    "In this code, we define a worker function that represents the task to be executed by the worker processes. The function takes a task parameter,\n",
    "squares it, and returns the result.\n",
    "\n",
    "Within the if __name__ == '__main__': block, we create a multiprocessing pool using multiprocessing.Pool(processes=3). The processes argument\n",
    "specifies the number of worker processes to be created in the pool.\n",
    "\n",
    "We define a list of tasks that we want to process in parallel. In this example, the tasks are a list of numbers.\n",
    "\n",
    "The pool.map() function is then used to apply the worker function to the tasks in parallel. It distributes the tasks among the worker processes in\n",
    "the pool and returns the results as a list.\n",
    "\n",
    "Finally, we print the results and close the pool using pool.close(). The pool.join() call ensures that the main program waits for all the worker\n",
    "processes to finish their execution before proceeding.\n",
    "\n",
    "When you run this code, the tasks will be processed in parallel by the worker processes in the pool. The results will be collected and printed,\n",
    "demonstrating the parallel execution of tasks.'''\n",
    "\n",
    "import multiprocessing\n",
    "\n",
    "def worker(task):\n",
    "    \"\"\"Function to be executed by the worker processes\"\"\"\n",
    "    result = task ** 2\n",
    "    return result\n",
    "\n",
    "if __name__ == '__main__':\n",
    "    # Create a multiprocessing pool with 3 worker processes\n",
    "    pool = multiprocessing.Pool(processes=3)\n",
    "\n",
    "    # List of tasks to be executed in parallel\n",
    "    tasks = [2, 4, 6, 8, 10]\n",
    "\n",
    "    # Apply the worker function to the tasks in parallel\n",
    "    results = pool.map(worker, tasks)\n",
    "\n",
    "    # Print the results\n",
    "    print(\"Results:\", results)\n",
    "\n",
    "    # Close the pool\n",
    "    pool.close()\n",
    "\n",
    "    # Wait for the worker processes to finish\n",
    "    pool.join()\n"
   ]
  },
  {
   "cell_type": "code",
   "execution_count": null,
   "id": "1ecd59a1-2f54-47a5-be28-8a1f16ad25ba",
   "metadata": {},
   "outputs": [],
   "source": [
    "#6\n",
    "import multiprocessing\n",
    "\n",
    "def print_number(number):\n",
    "    \"\"\"Function to print a number\"\"\"\n",
    "    print(f\"Process {number}: {number}\")\n",
    "\n",
    "if __name__ == '__main__':\n",
    "    # Create a list of numbers\n",
    "    numbers = [1, 2, 3, 4]\n",
    "\n",
    "    # Create a list to store the process objects\n",
    "    processes = []\n",
    "\n",
    "    # Create and start a process for each number\n",
    "    for number in numbers:\n",
    "        process = multiprocessing.Process(target=print_number, args=(number,))\n",
    "        process.start()\n",
    "        processes.append(process)\n",
    "\n",
    "    # Wait for all processes to finish\n",
    "    for process in processes:\n",
    "        process.join()\n",
    "\n",
    "    print(\"All processes completed.\")\n"
   ]
  }
 ],
 "metadata": {
  "kernelspec": {
   "display_name": "Python 3 (ipykernel)",
   "language": "python",
   "name": "python3"
  },
  "language_info": {
   "codemirror_mode": {
    "name": "ipython",
    "version": 3
   },
   "file_extension": ".py",
   "mimetype": "text/x-python",
   "name": "python",
   "nbconvert_exporter": "python",
   "pygments_lexer": "ipython3",
   "version": "3.10.8"
  }
 },
 "nbformat": 4,
 "nbformat_minor": 5
}
