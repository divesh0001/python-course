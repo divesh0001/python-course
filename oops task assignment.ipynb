{
 "cells": [
  {
   "cell_type": "code",
   "execution_count": 1,
   "id": "2bbc364d-1e4d-41b0-907d-7af20b3af20b",
   "metadata": {},
   "outputs": [],
   "source": [
    "#1\n",
    "class Vehicle:\n",
    "    def __init__(self, name_of_vehicle, max_speed, average_of_vehicle):\n",
    "        self.name_of_vehicle = name_of_vehicle\n",
    "        self.max_speed = max_speed\n",
    "        self.average_of_vehicle = average_of_vehicle\n"
   ]
  },
  {
   "cell_type": "code",
   "execution_count": 2,
   "id": "7d3a6aa5-9d1e-46b7-bf80-a23bf4f2d694",
   "metadata": {},
   "outputs": [],
   "source": [
    "#2\n",
    "class Car(Vehicle):\n",
    "    def seating_capacity(self, capacity):\n",
    "        return f\"The {self.name_of_vehicle} has a seating capacity of {capacity}.\"\n",
    "\n"
   ]
  },
  {
   "cell_type": "code",
   "execution_count": 3,
   "id": "eb58f26e-1e99-4213-b1da-f31a0978aa60",
   "metadata": {},
   "outputs": [
    {
     "name": "stdout",
     "output_type": "stream",
     "text": [
      "The Car has a seating capacity of 4.\n"
     ]
    }
   ],
   "source": [
    "car = Car(\"Car\", 200, 50)\n",
    "print(car.seating_capacity(4))\n"
   ]
  },
  {
   "cell_type": "code",
   "execution_count": 5,
   "id": "113222ac-9d96-4701-88c5-f920ca67ddb9",
   "metadata": {},
   "outputs": [
    {
     "name": "stdout",
     "output_type": "stream",
     "text": [
      "Sparrow is eating.\n",
      "Sparrow is sleeping.\n",
      "Sparrow is flying.\n"
     ]
    }
   ],
   "source": [
    "#3\n",
    "class Animal:\n",
    "    def __init__(self, name):\n",
    "        self.name = name\n",
    "\n",
    "    def eat(self):\n",
    "        print(f\"{self.name} is eating.\")\n",
    "\n",
    "    def sleep(self):\n",
    "        print(f\"{self.name} is sleeping.\")\n",
    "\n",
    "class Flyable:\n",
    "    def fly(self):\n",
    "        print(f\"{self.name} is flying.\")\n",
    "\n",
    "class Bird(Animal, Flyable):\n",
    "    def __init__(self, name):\n",
    "        super().__init__(name)\n",
    "\n",
    "bird = Bird(\"Sparrow\")\n",
    "bird.eat()  \n",
    "bird.sleep()\n",
    "bird.fly() \n"
   ]
  },
  {
   "cell_type": "code",
   "execution_count": 6,
   "id": "e3e0adaf-a38f-4822-a492-a456661c4385",
   "metadata": {},
   "outputs": [],
   "source": [
    "#4\n",
    "class Person:\n",
    "    def __init__(self):\n",
    "        self._name = \"\"\n",
    "\n",
    "    def get_name(self):\n",
    "        return self._name\n",
    "\n",
    "    def set_name(self, name):\n",
    "        if len(name) > 0:\n",
    "            self._name = name\n",
    "        else:\n",
    "            print(\"Name cannot be empty.\")\n"
   ]
  },
  {
   "cell_type": "code",
   "execution_count": 7,
   "id": "a1ff063f-82c8-4ed3-afa0-b8ba74463ed0",
   "metadata": {},
   "outputs": [
    {
     "name": "stdout",
     "output_type": "stream",
     "text": [
      "John\n"
     ]
    }
   ],
   "source": [
    "person = Person()\n",
    "person.set_name(\"John\")\n",
    "print(person.get_name()) "
   ]
  },
  {
   "cell_type": "code",
   "execution_count": 8,
   "id": "9b72907d-819a-4a47-ba49-fea24505a217",
   "metadata": {},
   "outputs": [
    {
     "name": "stdout",
     "output_type": "stream",
     "text": [
      "Name cannot be empty.\n"
     ]
    }
   ],
   "source": [
    "person.set_name(\"\")  "
   ]
  },
  {
   "cell_type": "code",
   "execution_count": 12,
   "id": "4142bd91-a6ae-494c-b3fd-06dd69bef6c7",
   "metadata": {},
   "outputs": [
    {
     "name": "stdout",
     "output_type": "stream",
     "text": [
      "The animal makes a sound.\n",
      "The cat says 'Meow'.\n",
      "The dog says 'Woof'.\n"
     ]
    }
   ],
   "source": [
    "#5\n",
    "class Animal:\n",
    "    def make_sound(self):\n",
    "        print(\"The animal makes a sound.\")\n",
    "\n",
    "class Cat(Animal):\n",
    "    def make_sound(self):\n",
    "        print(\"The cat says 'Meow'.\")\n",
    "\n",
    "class Dog(Animal):\n",
    "    def make_sound(self):\n",
    "        print(\"The dog says 'Woof'.\")\n",
    "\n",
    "animal = Animal()\n",
    "animal.make_sound() \n",
    "\n",
    "cat = Cat()\n",
    "cat.make_sound()  \n",
    "\n",
    "dog = Dog()\n",
    "dog.make_sound()  \n"
   ]
  },
  {
   "cell_type": "code",
   "execution_count": null,
   "id": "e6fed7b6-6574-4072-b09e-9d28857d26ac",
   "metadata": {},
   "outputs": [],
   "source": []
  }
 ],
 "metadata": {
  "kernelspec": {
   "display_name": "Python 3 (ipykernel)",
   "language": "python",
   "name": "python3"
  },
  "language_info": {
   "codemirror_mode": {
    "name": "ipython",
    "version": 3
   },
   "file_extension": ".py",
   "mimetype": "text/x-python",
   "name": "python",
   "nbconvert_exporter": "python",
   "pygments_lexer": "ipython3",
   "version": "3.10.8"
  }
 },
 "nbformat": 4,
 "nbformat_minor": 5
}
